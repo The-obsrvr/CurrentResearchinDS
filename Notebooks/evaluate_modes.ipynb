{
 "cells": [
  {
   "cell_type": "code",
   "execution_count": 5,
   "metadata": {},
   "outputs": [
    {
     "name": "stdout",
     "output_type": "stream",
     "text": [
      "The autoreload extension is already loaded. To reload it, use:\n",
      "  %reload_ext autoreload\n"
     ]
    }
   ],
   "source": [
    "%load_ext autoreload\n",
    "\n",
    "import sys\n",
    "sys.path.insert(0, \"../src\")\n",
    "\n",
    "import os\n",
    "os.chdir(\"../src\")\n",
    "\n",
    "import csv\n",
    "import joblib\n",
    "import pandas as pd\n",
    "from utils import load_data\n",
    "from sklearn.metrics import accuracy_score, f1_score"
   ]
  },
  {
   "cell_type": "code",
   "execution_count": 29,
   "metadata": {},
   "outputs": [],
   "source": [
    "EXPERIMENT_NAME = \"IML\"\n",
    "result_dir = '../results/'"
   ]
  },
  {
   "cell_type": "code",
   "execution_count": null,
   "metadata": {},
   "outputs": [],
   "source": [
    "x_train, x_test, y_train, y_test  = load_data()\n",
    "x_train_hpo, x_val_hpo, y_train_hpo, y_val_hpo = train_test_split(x_train, y_train,\n",
    "                                                                  test_size=0.2, shuffle=False)"
   ]
  },
  {
   "cell_type": "code",
   "execution_count": 44,
   "metadata": {},
   "outputs": [],
   "source": [
    "with open(result_dir+'test_performance.csv', 'w', newline='') as file:\n",
    "    writer = csv.writer(file)\n",
    "    writer.writerow(['model_name', 'macro_f1_test', 'accuracy_test'])\n",
    "    for model_name in [\"DecitionTree\", \"LogisticRegression\", \"SVR\", \"LGBM\", \"RandomForest\", \"AdaBoost\", \"MLP\"]:\n",
    "        model_path = result_dir + EXPERIMENT_NAME + \"/\" + model_name + \"/\"\n",
    "        with open(model_path+'model.pkl', 'rb') as file:\n",
    "            model = joblib.load(file)\n",
    "        y_predict_test = model.predict(x_test)\n",
    "        macro_f1_test = f1_score(y_test.to_numpy(), y_predict_test, average='macro')\n",
    "        accuracy_test = accuracy_score(y_test.to_numpy(), y_predict_test)\n",
    "        writer.writerow([model_name, macro_f1_test, accuracy_test])"
   ]
  },
  {
   "cell_type": "code",
   "execution_count": 45,
   "metadata": {},
   "outputs": [
    {
     "data": {
      "text/html": [
       "<div>\n",
       "<style scoped>\n",
       "    .dataframe tbody tr th:only-of-type {\n",
       "        vertical-align: middle;\n",
       "    }\n",
       "\n",
       "    .dataframe tbody tr th {\n",
       "        vertical-align: top;\n",
       "    }\n",
       "\n",
       "    .dataframe thead th {\n",
       "        text-align: right;\n",
       "    }\n",
       "</style>\n",
       "<table border=\"1\" class=\"dataframe\">\n",
       "  <thead>\n",
       "    <tr style=\"text-align: right;\">\n",
       "      <th></th>\n",
       "      <th>model_name</th>\n",
       "      <th>macro_f1_test</th>\n",
       "      <th>accuracy_test</th>\n",
       "    </tr>\n",
       "  </thead>\n",
       "  <tbody>\n",
       "    <tr>\n",
       "      <th>4</th>\n",
       "      <td>RandomForest</td>\n",
       "      <td>0.471614</td>\n",
       "      <td>0.892555</td>\n",
       "    </tr>\n",
       "    <tr>\n",
       "      <th>0</th>\n",
       "      <td>DecitionTree</td>\n",
       "      <td>0.710834</td>\n",
       "      <td>0.888630</td>\n",
       "    </tr>\n",
       "    <tr>\n",
       "      <th>5</th>\n",
       "      <td>AdaBoost</td>\n",
       "      <td>0.717758</td>\n",
       "      <td>0.912425</td>\n",
       "    </tr>\n",
       "    <tr>\n",
       "      <th>6</th>\n",
       "      <td>MLP</td>\n",
       "      <td>0.723303</td>\n",
       "      <td>0.895621</td>\n",
       "    </tr>\n",
       "    <tr>\n",
       "      <th>1</th>\n",
       "      <td>LogisticRegression</td>\n",
       "      <td>0.735385</td>\n",
       "      <td>0.916227</td>\n",
       "    </tr>\n",
       "    <tr>\n",
       "      <th>3</th>\n",
       "      <td>LGBM</td>\n",
       "      <td>0.756454</td>\n",
       "      <td>0.918190</td>\n",
       "    </tr>\n",
       "    <tr>\n",
       "      <th>2</th>\n",
       "      <td>SVR</td>\n",
       "      <td>0.757915</td>\n",
       "      <td>0.918680</td>\n",
       "    </tr>\n",
       "  </tbody>\n",
       "</table>\n",
       "</div>"
      ],
      "text/plain": [
       "           model_name  macro_f1_test  accuracy_test\n",
       "4        RandomForest       0.471614       0.892555\n",
       "0        DecitionTree       0.710834       0.888630\n",
       "5            AdaBoost       0.717758       0.912425\n",
       "6                 MLP       0.723303       0.895621\n",
       "1  LogisticRegression       0.735385       0.916227\n",
       "3                LGBM       0.756454       0.918190\n",
       "2                 SVR       0.757915       0.918680"
      ]
     },
     "execution_count": 45,
     "metadata": {},
     "output_type": "execute_result"
    }
   ],
   "source": [
    "test_performance = pd.read_csv(result_dir+'test_performance.csv')\n",
    "test_performance.sort_values(by=['macro_f1_test'])"
   ]
  },
  {
   "cell_type": "code",
   "execution_count": 18,
   "metadata": {},
   "outputs": [
    {
     "data": {
      "text/plain": [
       "{'C': '2',\n",
       " 'break_ties': 'False',\n",
       " 'cache_size': '200',\n",
       " 'class_weight': 'None',\n",
       " 'coef0': '0.0',\n",
       " 'decision_function_shape': 'ovr',\n",
       " 'degree': '6',\n",
       " 'gamma': 'scale',\n",
       " 'kernel': 'rbf',\n",
       " 'max_iter': '4623',\n",
       " 'probability': True,\n",
       " 'random_state': 'None',\n",
       " 'shrinking': 'True',\n",
       " 'tol': '0.001',\n",
       " 'verbose': 'False'}"
      ]
     },
     "execution_count": 18,
     "metadata": {},
     "output_type": "execute_result"
    }
   ],
   "source": [
    "import pandas as pd\n",
    "best_hp = pd.read_csv('../results/IML/SVR/best_hp.csv', header=None)\n",
    "best_hp = best_hp.set_index(0).T.to_dict('records')[0]\n",
    "best_hp['probability'] = True\n",
    "best_hp"
   ]
  }
 ],
 "metadata": {
  "kernelspec": {
   "display_name": "Python 3",
   "language": "python",
   "name": "python3"
  },
  "language_info": {
   "codemirror_mode": {
    "name": "ipython",
    "version": 3
   },
   "file_extension": ".py",
   "mimetype": "text/x-python",
   "name": "python",
   "nbconvert_exporter": "python",
   "pygments_lexer": "ipython3",
   "version": "3.7.6"
  }
 },
 "nbformat": 4,
 "nbformat_minor": 4
}
