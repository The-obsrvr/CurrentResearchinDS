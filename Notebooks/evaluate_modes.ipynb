{
 "cells": [
  {
   "cell_type": "code",
   "execution_count": 21,
   "metadata": {},
   "outputs": [
    {
     "name": "stdout",
     "output_type": "stream",
     "text": [
      "The autoreload extension is already loaded. To reload it, use:\n",
      "  %reload_ext autoreload\n"
     ]
    }
   ],
   "source": [
    "%load_ext autoreload\n",
    "\n",
    "import sys\n",
    "sys.path.insert(0, \"../src\")\n",
    "\n",
    "import os\n",
    "os.chdir(\"../src\")\n",
    "\n",
    "import csv\n",
    "import joblib\n",
    "import pandas as pd\n",
    "from utils import load_data\n",
    "from sklearn.metrics import accuracy_score, f1_score"
   ]
  },
  {
   "cell_type": "code",
   "execution_count": 26,
   "metadata": {},
   "outputs": [],
   "source": [
    "EXPERIMENT_NAME = \"IML2\"\n",
    "result_dir = '../results/'"
   ]
  },
  {
   "cell_type": "code",
   "execution_count": null,
   "metadata": {},
   "outputs": [],
   "source": [
    "x_train, x_test, y_train, y_test  = load_data()\n",
    "x_train_hpo, x_val_hpo, y_train_hpo, y_val_hpo = train_test_split(x_train, y_train,\n",
    "                                                                  test_size=0.2, shuffle=False)"
   ]
  },
  {
   "cell_type": "code",
   "execution_count": 27,
   "metadata": {},
   "outputs": [],
   "source": [
    "with open(result_dir+'test_performance_2.csv', 'w', newline='') as file:\n",
    "    writer = csv.writer(file)\n",
    "    writer.writerow(['model_name', 'macro_f1_test', 'accuracy_test'])\n",
    "    for model_name in [\"DecitionTree\", \"LogisticRegression\"]:#, \"LGBM\", \"RandomForest\", \"AdaBoost\"]:#\"LinearSVR\", \"MLP\",\n",
    "        model_path = result_dir + EXPERIMENT_NAME + \"/\" + model_name + \"/\"\n",
    "        with open(model_path+'model.pkl', 'rb') as file:\n",
    "            model = joblib.load(file)\n",
    "        y_predict_test = model.predict(x_test)\n",
    "        macro_f1_test = f1_score(y_test.to_numpy(), y_predict_test, average='macro')\n",
    "        accuracy_test = accuracy_score(y_test.to_numpy(), y_predict_test)\n",
    "        writer.writerow([model_name, macro_f1_test, accuracy_test])"
   ]
  },
  {
   "cell_type": "code",
   "execution_count": 28,
   "metadata": {},
   "outputs": [
    {
     "data": {
      "text/html": [
       "<div>\n",
       "<style scoped>\n",
       "    .dataframe tbody tr th:only-of-type {\n",
       "        vertical-align: middle;\n",
       "    }\n",
       "\n",
       "    .dataframe tbody tr th {\n",
       "        vertical-align: top;\n",
       "    }\n",
       "\n",
       "    .dataframe thead th {\n",
       "        text-align: right;\n",
       "    }\n",
       "</style>\n",
       "<table border=\"1\" class=\"dataframe\">\n",
       "  <thead>\n",
       "    <tr style=\"text-align: right;\">\n",
       "      <th></th>\n",
       "      <th>model_name</th>\n",
       "      <th>macro_f1_test</th>\n",
       "      <th>accuracy_test</th>\n",
       "    </tr>\n",
       "  </thead>\n",
       "  <tbody>\n",
       "    <tr>\n",
       "      <th>0</th>\n",
       "      <td>DecitionTree</td>\n",
       "      <td>0.711361</td>\n",
       "      <td>0.889611</td>\n",
       "    </tr>\n",
       "    <tr>\n",
       "      <th>1</th>\n",
       "      <td>LogisticRegression</td>\n",
       "      <td>0.735385</td>\n",
       "      <td>0.916227</td>\n",
       "    </tr>\n",
       "  </tbody>\n",
       "</table>\n",
       "</div>"
      ],
      "text/plain": [
       "           model_name  macro_f1_test  accuracy_test\n",
       "0        DecitionTree       0.711361       0.889611\n",
       "1  LogisticRegression       0.735385       0.916227"
      ]
     },
     "execution_count": 28,
     "metadata": {},
     "output_type": "execute_result"
    }
   ],
   "source": [
    "test_performance = pd.read_csv(result_dir+'test_performance_2.csv')\n",
    "test_performance.sort_values(by=['macro_f1_test'])"
   ]
  }
 ],
 "metadata": {
  "kernelspec": {
   "display_name": "Python 3",
   "language": "python",
   "name": "python3"
  },
  "language_info": {
   "codemirror_mode": {
    "name": "ipython",
    "version": 3
   },
   "file_extension": ".py",
   "mimetype": "text/x-python",
   "name": "python",
   "nbconvert_exporter": "python",
   "pygments_lexer": "ipython3",
   "version": "3.7.6"
  }
 },
 "nbformat": 4,
 "nbformat_minor": 4
}
