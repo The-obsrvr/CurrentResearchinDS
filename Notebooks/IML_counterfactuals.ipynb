{
 "cells": [
  {
   "cell_type": "code",
   "execution_count": 1,
   "metadata": {
    "colab": {
     "base_uri": "https://localhost:8080/"
    },
    "id": "rAMC90rF3wRy",
    "outputId": "9281a598-f6f1-469e-c182-b82ab3e92dbe"
   },
   "outputs": [],
   "source": [
    "# !pip install alibi\n",
    "# !pip install tensorflow"
   ]
  },
  {
   "cell_type": "code",
   "execution_count": 2,
   "metadata": {
    "id": "Pt4wGaXggAtW"
   },
   "outputs": [],
   "source": [
    "%load_ext autoreload\n",
    "\n",
    "import sys\n",
    "sys.path.insert(0, \"../src\")\n",
    "\n",
    "import os\n",
    "os.chdir(\"../src\")"
   ]
  },
  {
   "cell_type": "code",
   "execution_count": 3,
   "metadata": {
    "colab": {
     "base_uri": "https://localhost:8080/"
    },
    "id": "IflhiSp30jtY",
    "outputId": "aedbc368-a6f6-4088-cd85-384e5e66d6e3"
   },
   "outputs": [],
   "source": [
    "import numpy as np\n",
    "import pandas as pd\n",
    "import joblib\n",
    "import matplotlib.pyplot as plt\n",
    "from data_generator import DataGenerator\n",
    "from counterfactual import Counterfactual\n",
    "from utils import lift_analysis\n",
    "import tensorflow as tf\n",
    "from tensorflow.python.framework.ops import disable_eager_execution\n",
    "np.random.seed(0)\n",
    "tf.random.set_seed(0)\n",
    "disable_eager_execution()"
   ]
  },
  {
   "cell_type": "code",
   "execution_count": 4,
   "metadata": {
    "colab": {
     "base_uri": "https://localhost:8080/",
     "height": 376
    },
    "id": "YImcRgdN378F",
    "outputId": "b61c3a41-d287-4cf9-aa0f-e73c3d3da5f7"
   },
   "outputs": [
    {
     "name": "stderr",
     "output_type": "stream",
     "text": [
      "\n",
      "A value is trying to be set on a copy of a slice from a DataFrame.\n",
      "Try using .loc[row_indexer,col_indexer] = value instead\n",
      "\n",
      "See the caveats in the documentation: https://pandas.pydata.org/pandas-docs/stable/user_guide/indexing.html#returning-a-view-versus-a-copy\n",
      "\n",
      "A value is trying to be set on a copy of a slice from a DataFrame.\n",
      "Try using .loc[row_indexer,col_indexer] = value instead\n",
      "\n",
      "See the caveats in the documentation: https://pandas.pydata.org/pandas-docs/stable/user_guide/indexing.html#returning-a-view-versus-a-copy\n",
      "\n",
      "A value is trying to be set on a copy of a slice from a DataFrame.\n",
      "Try using .loc[row_indexer,col_indexer] = value instead\n",
      "\n",
      "See the caveats in the documentation: https://pandas.pydata.org/pandas-docs/stable/user_guide/indexing.html#returning-a-view-versus-a-copy\n",
      "\n",
      "A value is trying to be set on a copy of a slice from a DataFrame.\n",
      "Try using .loc[row_indexer,col_indexer] = value instead\n",
      "\n",
      "See the caveats in the documentation: https://pandas.pydata.org/pandas-docs/stable/user_guide/indexing.html#returning-a-view-versus-a-copy\n"
     ]
    }
   ],
   "source": [
    "data_handler = DataGenerator(\"../data/imputed_bank_data_mice.csv\",\n",
    "                             imputed=True, preprocessed=False)\n",
    "x_train, x_test, y_train, y_test = data_handler.load_data()"
   ]
  },
  {
   "cell_type": "code",
   "execution_count": 5,
   "metadata": {
    "colab": {
     "base_uri": "https://localhost:8080/"
    },
    "id": "aMhU01YD39F-",
    "outputId": "e5b370ad-4679-47dc-8056-982cb7615f5f"
   },
   "outputs": [
    {
     "name": "stdout",
     "output_type": "stream",
     "text": [
      "WARNING:tensorflow:From /home/ubuntu/anaconda3/lib/python3.7/site-packages/alibi/utils/tf.py:26: The name tf.keras.backend.get_session is deprecated. Please use tf.compat.v1.keras.backend.get_session instead.\n",
      "\n",
      "WARNING:tensorflow:OMP_NUM_THREADS is no longer used by the default Keras config. To configure the number of threads, use tf.config.threading APIs.\n"
     ]
    },
    {
     "name": "stderr",
     "output_type": "stream",
     "text": [
      "No encoder specified. Using k-d trees to represent class prototypes.\n"
     ]
    }
   ],
   "source": [
    "# load the retrained model\n",
    "with open('../results/Models/LGBM/model.pkl', 'rb') as file:\n",
    "    lgbm_model = joblib.load(file)\n",
    "\n",
    "# define a CFP explainer object\n",
    "cfp_explainer = Counterfactual(lgbm_model, x_train, data_handler)"
   ]
  },
  {
   "cell_type": "code",
   "execution_count": 6,
   "metadata": {
    "colab": {
     "base_uri": "https://localhost:8080/",
     "height": 412
    },
    "id": "QLK9ZYCSg-DN",
    "outputId": "670a4828-1ede-4880-89a1-5aee2b253667"
   },
   "outputs": [
    {
     "name": "stdout",
     "output_type": "stream",
     "text": [
      "Original instance: no  -- proba: [0.99336939 0.00663061]\n",
      "Counterfactual instance: yes  -- proba: [0.34770054 0.65229946]\n",
      "\n",
      "Counterfactual perturbations...\n",
      "\n",
      "Categorical:\n",
      "day_of_week: fri  -->   thu\n",
      "binned_duration: 200sec - 400sec  -->   more than 800sec\n",
      "\n",
      "Numerical:\n",
      "--------------------\n",
      "\n",
      "Original Instance:\n"
     ]
    },
    {
     "data": {
      "text/html": [
       "<div>\n",
       "<style scoped>\n",
       "    .dataframe tbody tr th:only-of-type {\n",
       "        vertical-align: middle;\n",
       "    }\n",
       "\n",
       "    .dataframe tbody tr th {\n",
       "        vertical-align: top;\n",
       "    }\n",
       "\n",
       "    .dataframe thead th {\n",
       "        text-align: right;\n",
       "    }\n",
       "</style>\n",
       "<table border=\"1\" class=\"dataframe\">\n",
       "  <thead>\n",
       "    <tr style=\"text-align: right;\">\n",
       "      <th></th>\n",
       "      <th>education</th>\n",
       "      <th>job</th>\n",
       "      <th>marital</th>\n",
       "      <th>month</th>\n",
       "      <th>day_of_week</th>\n",
       "      <th>binned_duration</th>\n",
       "      <th>poutcome</th>\n",
       "      <th>housing</th>\n",
       "      <th>loan</th>\n",
       "      <th>contact</th>\n",
       "      <th>age</th>\n",
       "      <th>campaign</th>\n",
       "      <th>previous</th>\n",
       "      <th>emp.var.rate</th>\n",
       "      <th>cons.price.idx</th>\n",
       "      <th>cons.conf.idx</th>\n",
       "      <th>euribor3m</th>\n",
       "      <th>nr.employed</th>\n",
       "    </tr>\n",
       "  </thead>\n",
       "  <tbody>\n",
       "    <tr>\n",
       "      <th>0</th>\n",
       "      <td>basic</td>\n",
       "      <td>blue-collar</td>\n",
       "      <td>married</td>\n",
       "      <td>may</td>\n",
       "      <td>fri</td>\n",
       "      <td>200sec - 400sec</td>\n",
       "      <td>nonexistent</td>\n",
       "      <td>no</td>\n",
       "      <td>no</td>\n",
       "      <td>cellular</td>\n",
       "      <td>50.0</td>\n",
       "      <td>6.0</td>\n",
       "      <td>0.0</td>\n",
       "      <td>-2.0</td>\n",
       "      <td>93.0</td>\n",
       "      <td>-46.0</td>\n",
       "      <td>1.0</td>\n",
       "      <td>5099.0</td>\n",
       "    </tr>\n",
       "  </tbody>\n",
       "</table>\n",
       "</div>"
      ],
      "text/plain": [
       "  education          job  marital month day_of_week  binned_duration  \\\n",
       "0     basic  blue-collar  married   may         fri  200sec - 400sec   \n",
       "\n",
       "      poutcome housing loan   contact   age  campaign  previous  emp.var.rate  \\\n",
       "0  nonexistent      no   no  cellular  50.0       6.0       0.0          -2.0   \n",
       "\n",
       "   cons.price.idx  cons.conf.idx  euribor3m  nr.employed  \n",
       "0            93.0          -46.0        1.0       5099.0  "
      ]
     },
     "metadata": {},
     "output_type": "display_data"
    },
    {
     "name": "stdout",
     "output_type": "stream",
     "text": [
      "\n",
      "Counterfactual Instance:\n"
     ]
    },
    {
     "data": {
      "text/html": [
       "<div>\n",
       "<style scoped>\n",
       "    .dataframe tbody tr th:only-of-type {\n",
       "        vertical-align: middle;\n",
       "    }\n",
       "\n",
       "    .dataframe tbody tr th {\n",
       "        vertical-align: top;\n",
       "    }\n",
       "\n",
       "    .dataframe thead th {\n",
       "        text-align: right;\n",
       "    }\n",
       "</style>\n",
       "<table border=\"1\" class=\"dataframe\">\n",
       "  <thead>\n",
       "    <tr style=\"text-align: right;\">\n",
       "      <th></th>\n",
       "      <th>education</th>\n",
       "      <th>job</th>\n",
       "      <th>marital</th>\n",
       "      <th>month</th>\n",
       "      <th>day_of_week</th>\n",
       "      <th>binned_duration</th>\n",
       "      <th>poutcome</th>\n",
       "      <th>housing</th>\n",
       "      <th>loan</th>\n",
       "      <th>contact</th>\n",
       "      <th>age</th>\n",
       "      <th>campaign</th>\n",
       "      <th>previous</th>\n",
       "      <th>emp.var.rate</th>\n",
       "      <th>cons.price.idx</th>\n",
       "      <th>cons.conf.idx</th>\n",
       "      <th>euribor3m</th>\n",
       "      <th>nr.employed</th>\n",
       "    </tr>\n",
       "  </thead>\n",
       "  <tbody>\n",
       "    <tr>\n",
       "      <th>0</th>\n",
       "      <td>basic</td>\n",
       "      <td>blue-collar</td>\n",
       "      <td>married</td>\n",
       "      <td>may</td>\n",
       "      <td>thu</td>\n",
       "      <td>more than 800sec</td>\n",
       "      <td>nonexistent</td>\n",
       "      <td>no</td>\n",
       "      <td>no</td>\n",
       "      <td>cellular</td>\n",
       "      <td>50.0</td>\n",
       "      <td>6.0</td>\n",
       "      <td>5.548320e-09</td>\n",
       "      <td>-2.0</td>\n",
       "      <td>93.0</td>\n",
       "      <td>-46.0</td>\n",
       "      <td>1.0</td>\n",
       "      <td>5099.0</td>\n",
       "    </tr>\n",
       "  </tbody>\n",
       "</table>\n",
       "</div>"
      ],
      "text/plain": [
       "  education          job  marital month day_of_week   binned_duration  \\\n",
       "0     basic  blue-collar  married   may         thu  more than 800sec   \n",
       "\n",
       "      poutcome housing loan   contact   age  campaign      previous  \\\n",
       "0  nonexistent      no   no  cellular  50.0       6.0  5.548320e-09   \n",
       "\n",
       "   emp.var.rate  cons.price.idx  cons.conf.idx  euribor3m  nr.employed  \n",
       "0          -2.0            93.0          -46.0        1.0       5099.0  "
      ]
     },
     "metadata": {},
     "output_type": "display_data"
    }
   ],
   "source": [
    "# select an instance you want to study\n",
    "instance = x_test.loc[32171]\n",
    "\n",
    "# calculate the counterfactuals if any.\n",
    "counterfactual = cfp_explainer.define_counterfactuals(instance)\n",
    "\n",
    "# convert to original form and display\n",
    "instance_orig = data_handler.rev_transform(instance)\n",
    "print(\"--------------------\")\n",
    "print(\"\\nOriginal Instance:\")\n",
    "display(instance_orig)\n",
    "\n",
    "if counterfactual is not None:\n",
    "  counterfactual_orig = data_handler.rev_transform(counterfactual.iloc[0])\n",
    "  print(\"\\nCounterfactual Instance:\")\n",
    "  display(counterfactual_orig)"
   ]
  },
  {
   "cell_type": "code",
   "execution_count": 7,
   "metadata": {
    "colab": {
     "base_uri": "https://localhost:8080/",
     "height": 151
    },
    "id": "qsCkoe0YOaUu",
    "outputId": "c65ee04d-412c-4213-fc81-6e24c546c787"
   },
   "outputs": [
    {
     "name": "stderr",
     "output_type": "stream",
     "text": [
      "No counterfactual found!\n"
     ]
    },
    {
     "name": "stdout",
     "output_type": "stream",
     "text": [
      "--------------------\n",
      "\n",
      "Original Instance:\n"
     ]
    },
    {
     "data": {
      "text/html": [
       "<div>\n",
       "<style scoped>\n",
       "    .dataframe tbody tr th:only-of-type {\n",
       "        vertical-align: middle;\n",
       "    }\n",
       "\n",
       "    .dataframe tbody tr th {\n",
       "        vertical-align: top;\n",
       "    }\n",
       "\n",
       "    .dataframe thead th {\n",
       "        text-align: right;\n",
       "    }\n",
       "</style>\n",
       "<table border=\"1\" class=\"dataframe\">\n",
       "  <thead>\n",
       "    <tr style=\"text-align: right;\">\n",
       "      <th></th>\n",
       "      <th>education</th>\n",
       "      <th>job</th>\n",
       "      <th>marital</th>\n",
       "      <th>month</th>\n",
       "      <th>day_of_week</th>\n",
       "      <th>binned_duration</th>\n",
       "      <th>poutcome</th>\n",
       "      <th>housing</th>\n",
       "      <th>loan</th>\n",
       "      <th>contact</th>\n",
       "      <th>age</th>\n",
       "      <th>campaign</th>\n",
       "      <th>previous</th>\n",
       "      <th>emp.var.rate</th>\n",
       "      <th>cons.price.idx</th>\n",
       "      <th>cons.conf.idx</th>\n",
       "      <th>euribor3m</th>\n",
       "      <th>nr.employed</th>\n",
       "    </tr>\n",
       "  </thead>\n",
       "  <tbody>\n",
       "    <tr>\n",
       "      <th>0</th>\n",
       "      <td>professional course</td>\n",
       "      <td>technician</td>\n",
       "      <td>married</td>\n",
       "      <td>may</td>\n",
       "      <td>wed</td>\n",
       "      <td>less than 200sec</td>\n",
       "      <td>nonexistent</td>\n",
       "      <td>yes</td>\n",
       "      <td>no</td>\n",
       "      <td>telephone</td>\n",
       "      <td>50.0</td>\n",
       "      <td>2.0</td>\n",
       "      <td>0.0</td>\n",
       "      <td>1.0</td>\n",
       "      <td>94.0</td>\n",
       "      <td>-36.0</td>\n",
       "      <td>5.0</td>\n",
       "      <td>5191.0</td>\n",
       "    </tr>\n",
       "  </tbody>\n",
       "</table>\n",
       "</div>"
      ],
      "text/plain": [
       "             education         job  marital month day_of_week  \\\n",
       "0  professional course  technician  married   may         wed   \n",
       "\n",
       "    binned_duration     poutcome housing loan    contact   age  campaign  \\\n",
       "0  less than 200sec  nonexistent     yes   no  telephone  50.0       2.0   \n",
       "\n",
       "   previous  emp.var.rate  cons.price.idx  cons.conf.idx  euribor3m  \\\n",
       "0       0.0           1.0            94.0          -36.0        5.0   \n",
       "\n",
       "   nr.employed  \n",
       "0       5191.0  "
      ]
     },
     "metadata": {},
     "output_type": "display_data"
    }
   ],
   "source": [
    "# select an instance you want to study\n",
    "instance = x_test.loc[2831]\n",
    "\n",
    "# calculate the counterfactuals if any.\n",
    "counterfactual = cfp_explainer.define_counterfactuals(instance)\n",
    "\n",
    "# convert to original form and display\n",
    "instance_orig = data_handler.rev_transform(instance)\n",
    "print(\"--------------------\")\n",
    "print(\"\\nOriginal Instance:\")\n",
    "display(instance_orig)\n",
    "\n",
    "if counterfactual is not None:\n",
    "  counterfactual_orig = data_handler.rev_transform(counterfactual.iloc[0])\n",
    "  print(\"\\nCounterfactual Instance:\")\n",
    "  display(counterfactual_orig)"
   ]
  },
  {
   "cell_type": "code",
   "execution_count": null,
   "metadata": {
    "colab": {
     "base_uri": "https://localhost:8080/",
     "height": 394
    },
    "id": "eqWRQr8McnGu",
    "outputId": "d9f9f8b9-3da9-4e4b-bc0b-c8bf3a54b436"
   },
   "outputs": [],
   "source": [
    "# select an instance you want to study\n",
    "x = [\"housemaid\", \"divorced\", \"high school\",  \"no\", \"no\", \"cellular\", \"may\", \"tue\",\n",
    "     \"nonexistent\", \"200sec - 400sec\", 40, 2.0, 0.0, -3.0, 93.0, -30.0, 1.0, 5018.0]\n",
    "instance = data_handler.transform(x)\n",
    "\n",
    "# calculate the counterfactuals if any.\n",
    "counterfactual = cfp_explainer.define_counterfactuals(instance)\n",
    "\n",
    "# convert to original form and display\n",
    "instance_orig = data_handler.rev_transform(instance)\n",
    "print(\"--------------------\")\n",
    "print(\"\\nOriginal Instance:\")\n",
    "display(instance_orig)\n",
    "\n",
    "if counterfactual is not None:\n",
    "  counterfactual_orig = data_handler.rev_transform(counterfactual.iloc[0])\n",
    "  print(\"\\nCounterfactual Instance:\")\n",
    "  display(counterfactual_orig)"
   ]
  },
  {
   "cell_type": "markdown",
   "metadata": {
    "id": "6IEa_zSN8izu"
   },
   "source": [
    "## Instance:"
   ]
  },
  {
   "cell_type": "code",
   "execution_count": null,
   "metadata": {
    "id": "GLCsXuSyaTlW"
   },
   "outputs": [],
   "source": [
    "'''\n",
    "illiterate, unemployed ~ 35\n",
    "uni_deg, unemployed ~ 35\n",
    "\n",
    "technician, married, may, tue, 200-400sec ~ 30 \n",
    "\n",
    "highschool, housemaid, divroced, may, tue, 200-400sec  ~ 40\n",
    "'''"
   ]
  },
  {
   "cell_type": "code",
   "execution_count": null,
   "metadata": {},
   "outputs": [],
   "source": [
    "# select an instance you want to study\n",
    "x = [\"unemployed\", \"unmarried\", \"illiterate\",  \"no\", \"no\", \"cellular\", \"may\", \"tue\",\n",
    "     \"nonexistent\", \"200sec - 400sec\", 35, 2.0, 0.0, -3.0, 93.0, -30.0, 1.0, 5018.0]\n",
    "instance = data_handler.transform(x)\n",
    "\n",
    "# calculate the counterfactuals if any.\n",
    "counterfactual = cfp_explainer.define_counterfactuals(instance)\n",
    "\n",
    "# convert to original form and display\n",
    "instance_orig = data_handler.rev_transform(instance)\n",
    "print(\"--------------------\")\n",
    "print(\"\\nOriginal Instance:\")\n",
    "display(instance_orig)\n",
    "\n",
    "if counterfactual is not None:\n",
    "  counterfactual_orig = data_handler.rev_transform(counterfactual.iloc[0])\n",
    "  print(\"\\nCounterfactual Instance:\")\n",
    "  display(counterfactual_orig)"
   ]
  }
 ],
 "metadata": {
  "colab": {
   "name": "IML_counterfactuals.ipynb",
   "provenance": []
  },
  "kernelspec": {
   "display_name": "Python 3",
   "language": "python",
   "name": "python3"
  },
  "language_info": {
   "codemirror_mode": {
    "name": "ipython",
    "version": 3
   },
   "file_extension": ".py",
   "mimetype": "text/x-python",
   "name": "python",
   "nbconvert_exporter": "python",
   "pygments_lexer": "ipython3",
   "version": "3.7.6"
  }
 },
 "nbformat": 4,
 "nbformat_minor": 1
}
