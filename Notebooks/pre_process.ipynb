{
 "cells": [
  {
   "cell_type": "markdown",
   "metadata": {
    "id": "57_7TeRe_phc"
   },
   "source": [
    "<center><b><h1>Current Research in Data Science</b></center>\n",
    "<center><b><h3>Interpretable Machine Learning Group 3</b></center>\n",
    "<br>\n",
    "Team: Siddharth Bhargava, Tanveer Hannan <br>\n",
    "Mentor: Chrisoph Molnar\n",
    "<br>\n",
    "\n",
    "**Problem Statement**: Bank Campaign Dataset (https://www.kaggle.com/volodymyrgavrysh/bank-marketing-campaigns-dataset)"
   ]
  },
  {
   "cell_type": "markdown",
   "metadata": {
    "id": "aNIfBXnS_iMZ"
   },
   "source": [
    "#### Theory:\n",
    "\n",
    "**Book:** https://christophm.github.io/interpretable-ml-book/\n",
    "\n",
    "**Paper:** https://core.ac.uk/download/pdf/55631291.pdf\n",
    "\n",
    "**Links:** https://www.oreilly.com/content/introduction-to-local-interpretable-model-agnostic-explanations-lime/ \n",
    "\n",
    "Key Facts:\n",
    "\n",
    "- 22 features reduced from 150 features\n",
    "- Time series : May 2008 to June 2013 (we dont have the temporal information)\n",
    "- Binary Classification: result is a binary successful or unsuccessful contact\n",
    "\n",
    "\n"
   ]
  },
  {
   "cell_type": "code",
   "execution_count": 1,
   "metadata": {},
   "outputs": [],
   "source": [
    "%load_ext autoreload\n",
    "\n",
    "import sys\n",
    "sys.path.insert(0, \"../src\")\n",
    "\n",
    "import os\n",
    "os.chdir(\"../src\")"
   ]
  },
  {
   "cell_type": "markdown",
   "metadata": {
    "id": "h_5qRIfz_qBd"
   },
   "source": [
    "##  Import Libraries"
   ]
  },
  {
   "cell_type": "code",
   "execution_count": 2,
   "metadata": {
    "id": "tVRVszL--y85"
   },
   "outputs": [],
   "source": [
    "import numpy as np\n",
    "import pandas as pd\n",
    "import matplotlib.pyplot as plt\n",
    "import seaborn as sns\n",
    "\n",
    "%matplotlib inline"
   ]
  },
  {
   "cell_type": "code",
   "execution_count": 3,
   "metadata": {
    "id": "iRuH1iN7D9Bn"
   },
   "outputs": [],
   "source": [
    "bank_data = pd.read_csv(\"../data/bank-additional-full.csv\", sep=\";\")"
   ]
  },
  {
   "cell_type": "code",
   "execution_count": 4,
   "metadata": {
    "colab": {
     "base_uri": "https://localhost:8080/"
    },
    "id": "1MJxQQ8WEHoV",
    "outputId": "d6966bc4-6b00-4829-8ee9-e7acc06f274c"
   },
   "outputs": [
    {
     "data": {
      "text/html": [
       "<div>\n",
       "<style scoped>\n",
       "    .dataframe tbody tr th:only-of-type {\n",
       "        vertical-align: middle;\n",
       "    }\n",
       "\n",
       "    .dataframe tbody tr th {\n",
       "        vertical-align: top;\n",
       "    }\n",
       "\n",
       "    .dataframe thead th {\n",
       "        text-align: right;\n",
       "    }\n",
       "</style>\n",
       "<table border=\"1\" class=\"dataframe\">\n",
       "  <thead>\n",
       "    <tr style=\"text-align: right;\">\n",
       "      <th></th>\n",
       "      <th>age</th>\n",
       "      <th>job</th>\n",
       "      <th>marital</th>\n",
       "      <th>education</th>\n",
       "      <th>default</th>\n",
       "      <th>housing</th>\n",
       "      <th>loan</th>\n",
       "      <th>contact</th>\n",
       "      <th>month</th>\n",
       "      <th>day_of_week</th>\n",
       "      <th>...</th>\n",
       "      <th>campaign</th>\n",
       "      <th>pdays</th>\n",
       "      <th>previous</th>\n",
       "      <th>poutcome</th>\n",
       "      <th>emp.var.rate</th>\n",
       "      <th>cons.price.idx</th>\n",
       "      <th>cons.conf.idx</th>\n",
       "      <th>euribor3m</th>\n",
       "      <th>nr.employed</th>\n",
       "      <th>y</th>\n",
       "    </tr>\n",
       "  </thead>\n",
       "  <tbody>\n",
       "    <tr>\n",
       "      <th>0</th>\n",
       "      <td>56</td>\n",
       "      <td>housemaid</td>\n",
       "      <td>married</td>\n",
       "      <td>basic.4y</td>\n",
       "      <td>no</td>\n",
       "      <td>no</td>\n",
       "      <td>no</td>\n",
       "      <td>telephone</td>\n",
       "      <td>may</td>\n",
       "      <td>mon</td>\n",
       "      <td>...</td>\n",
       "      <td>1</td>\n",
       "      <td>999</td>\n",
       "      <td>0</td>\n",
       "      <td>nonexistent</td>\n",
       "      <td>1.1</td>\n",
       "      <td>93.994</td>\n",
       "      <td>-36.4</td>\n",
       "      <td>4.857</td>\n",
       "      <td>5191.0</td>\n",
       "      <td>no</td>\n",
       "    </tr>\n",
       "    <tr>\n",
       "      <th>1</th>\n",
       "      <td>57</td>\n",
       "      <td>services</td>\n",
       "      <td>married</td>\n",
       "      <td>high.school</td>\n",
       "      <td>unknown</td>\n",
       "      <td>no</td>\n",
       "      <td>no</td>\n",
       "      <td>telephone</td>\n",
       "      <td>may</td>\n",
       "      <td>mon</td>\n",
       "      <td>...</td>\n",
       "      <td>1</td>\n",
       "      <td>999</td>\n",
       "      <td>0</td>\n",
       "      <td>nonexistent</td>\n",
       "      <td>1.1</td>\n",
       "      <td>93.994</td>\n",
       "      <td>-36.4</td>\n",
       "      <td>4.857</td>\n",
       "      <td>5191.0</td>\n",
       "      <td>no</td>\n",
       "    </tr>\n",
       "    <tr>\n",
       "      <th>2</th>\n",
       "      <td>37</td>\n",
       "      <td>services</td>\n",
       "      <td>married</td>\n",
       "      <td>high.school</td>\n",
       "      <td>no</td>\n",
       "      <td>yes</td>\n",
       "      <td>no</td>\n",
       "      <td>telephone</td>\n",
       "      <td>may</td>\n",
       "      <td>mon</td>\n",
       "      <td>...</td>\n",
       "      <td>1</td>\n",
       "      <td>999</td>\n",
       "      <td>0</td>\n",
       "      <td>nonexistent</td>\n",
       "      <td>1.1</td>\n",
       "      <td>93.994</td>\n",
       "      <td>-36.4</td>\n",
       "      <td>4.857</td>\n",
       "      <td>5191.0</td>\n",
       "      <td>no</td>\n",
       "    </tr>\n",
       "    <tr>\n",
       "      <th>3</th>\n",
       "      <td>40</td>\n",
       "      <td>admin.</td>\n",
       "      <td>married</td>\n",
       "      <td>basic.6y</td>\n",
       "      <td>no</td>\n",
       "      <td>no</td>\n",
       "      <td>no</td>\n",
       "      <td>telephone</td>\n",
       "      <td>may</td>\n",
       "      <td>mon</td>\n",
       "      <td>...</td>\n",
       "      <td>1</td>\n",
       "      <td>999</td>\n",
       "      <td>0</td>\n",
       "      <td>nonexistent</td>\n",
       "      <td>1.1</td>\n",
       "      <td>93.994</td>\n",
       "      <td>-36.4</td>\n",
       "      <td>4.857</td>\n",
       "      <td>5191.0</td>\n",
       "      <td>no</td>\n",
       "    </tr>\n",
       "    <tr>\n",
       "      <th>4</th>\n",
       "      <td>56</td>\n",
       "      <td>services</td>\n",
       "      <td>married</td>\n",
       "      <td>high.school</td>\n",
       "      <td>no</td>\n",
       "      <td>no</td>\n",
       "      <td>yes</td>\n",
       "      <td>telephone</td>\n",
       "      <td>may</td>\n",
       "      <td>mon</td>\n",
       "      <td>...</td>\n",
       "      <td>1</td>\n",
       "      <td>999</td>\n",
       "      <td>0</td>\n",
       "      <td>nonexistent</td>\n",
       "      <td>1.1</td>\n",
       "      <td>93.994</td>\n",
       "      <td>-36.4</td>\n",
       "      <td>4.857</td>\n",
       "      <td>5191.0</td>\n",
       "      <td>no</td>\n",
       "    </tr>\n",
       "  </tbody>\n",
       "</table>\n",
       "<p>5 rows × 21 columns</p>\n",
       "</div>"
      ],
      "text/plain": [
       "   age        job  marital    education  default housing loan    contact  \\\n",
       "0   56  housemaid  married     basic.4y       no      no   no  telephone   \n",
       "1   57   services  married  high.school  unknown      no   no  telephone   \n",
       "2   37   services  married  high.school       no     yes   no  telephone   \n",
       "3   40     admin.  married     basic.6y       no      no   no  telephone   \n",
       "4   56   services  married  high.school       no      no  yes  telephone   \n",
       "\n",
       "  month day_of_week  ...  campaign  pdays  previous     poutcome emp.var.rate  \\\n",
       "0   may         mon  ...         1    999         0  nonexistent          1.1   \n",
       "1   may         mon  ...         1    999         0  nonexistent          1.1   \n",
       "2   may         mon  ...         1    999         0  nonexistent          1.1   \n",
       "3   may         mon  ...         1    999         0  nonexistent          1.1   \n",
       "4   may         mon  ...         1    999         0  nonexistent          1.1   \n",
       "\n",
       "   cons.price.idx  cons.conf.idx  euribor3m  nr.employed   y  \n",
       "0          93.994          -36.4      4.857       5191.0  no  \n",
       "1          93.994          -36.4      4.857       5191.0  no  \n",
       "2          93.994          -36.4      4.857       5191.0  no  \n",
       "3          93.994          -36.4      4.857       5191.0  no  \n",
       "4          93.994          -36.4      4.857       5191.0  no  \n",
       "\n",
       "[5 rows x 21 columns]"
      ]
     },
     "execution_count": 4,
     "metadata": {},
     "output_type": "execute_result"
    }
   ],
   "source": [
    "bank_data.head()"
   ]
  },
  {
   "cell_type": "code",
   "execution_count": 5,
   "metadata": {
    "colab": {
     "base_uri": "https://localhost:8080/"
    },
    "id": "WMgO8K6eEJQ8",
    "outputId": "499fcaf0-03ad-4b30-9c3b-9376bf53b071"
   },
   "outputs": [
    {
     "data": {
      "text/html": [
       "<div>\n",
       "<style scoped>\n",
       "    .dataframe tbody tr th:only-of-type {\n",
       "        vertical-align: middle;\n",
       "    }\n",
       "\n",
       "    .dataframe tbody tr th {\n",
       "        vertical-align: top;\n",
       "    }\n",
       "\n",
       "    .dataframe thead th {\n",
       "        text-align: right;\n",
       "    }\n",
       "</style>\n",
       "<table border=\"1\" class=\"dataframe\">\n",
       "  <thead>\n",
       "    <tr style=\"text-align: right;\">\n",
       "      <th></th>\n",
       "      <th>age</th>\n",
       "      <th>duration</th>\n",
       "      <th>campaign</th>\n",
       "      <th>pdays</th>\n",
       "      <th>previous</th>\n",
       "      <th>emp.var.rate</th>\n",
       "      <th>cons.price.idx</th>\n",
       "      <th>cons.conf.idx</th>\n",
       "      <th>euribor3m</th>\n",
       "      <th>nr.employed</th>\n",
       "    </tr>\n",
       "  </thead>\n",
       "  <tbody>\n",
       "    <tr>\n",
       "      <th>count</th>\n",
       "      <td>41188.00000</td>\n",
       "      <td>41188.000000</td>\n",
       "      <td>41188.000000</td>\n",
       "      <td>41188.000000</td>\n",
       "      <td>41188.000000</td>\n",
       "      <td>41188.000000</td>\n",
       "      <td>41188.000000</td>\n",
       "      <td>41188.000000</td>\n",
       "      <td>41188.000000</td>\n",
       "      <td>41188.000000</td>\n",
       "    </tr>\n",
       "    <tr>\n",
       "      <th>mean</th>\n",
       "      <td>40.02406</td>\n",
       "      <td>258.285010</td>\n",
       "      <td>2.567593</td>\n",
       "      <td>962.475454</td>\n",
       "      <td>0.172963</td>\n",
       "      <td>0.081886</td>\n",
       "      <td>93.575664</td>\n",
       "      <td>-40.502600</td>\n",
       "      <td>3.621291</td>\n",
       "      <td>5167.035911</td>\n",
       "    </tr>\n",
       "    <tr>\n",
       "      <th>std</th>\n",
       "      <td>10.42125</td>\n",
       "      <td>259.279249</td>\n",
       "      <td>2.770014</td>\n",
       "      <td>186.910907</td>\n",
       "      <td>0.494901</td>\n",
       "      <td>1.570960</td>\n",
       "      <td>0.578840</td>\n",
       "      <td>4.628198</td>\n",
       "      <td>1.734447</td>\n",
       "      <td>72.251528</td>\n",
       "    </tr>\n",
       "    <tr>\n",
       "      <th>min</th>\n",
       "      <td>17.00000</td>\n",
       "      <td>0.000000</td>\n",
       "      <td>1.000000</td>\n",
       "      <td>0.000000</td>\n",
       "      <td>0.000000</td>\n",
       "      <td>-3.400000</td>\n",
       "      <td>92.201000</td>\n",
       "      <td>-50.800000</td>\n",
       "      <td>0.634000</td>\n",
       "      <td>4963.600000</td>\n",
       "    </tr>\n",
       "    <tr>\n",
       "      <th>25%</th>\n",
       "      <td>32.00000</td>\n",
       "      <td>102.000000</td>\n",
       "      <td>1.000000</td>\n",
       "      <td>999.000000</td>\n",
       "      <td>0.000000</td>\n",
       "      <td>-1.800000</td>\n",
       "      <td>93.075000</td>\n",
       "      <td>-42.700000</td>\n",
       "      <td>1.344000</td>\n",
       "      <td>5099.100000</td>\n",
       "    </tr>\n",
       "    <tr>\n",
       "      <th>50%</th>\n",
       "      <td>38.00000</td>\n",
       "      <td>180.000000</td>\n",
       "      <td>2.000000</td>\n",
       "      <td>999.000000</td>\n",
       "      <td>0.000000</td>\n",
       "      <td>1.100000</td>\n",
       "      <td>93.749000</td>\n",
       "      <td>-41.800000</td>\n",
       "      <td>4.857000</td>\n",
       "      <td>5191.000000</td>\n",
       "    </tr>\n",
       "    <tr>\n",
       "      <th>75%</th>\n",
       "      <td>47.00000</td>\n",
       "      <td>319.000000</td>\n",
       "      <td>3.000000</td>\n",
       "      <td>999.000000</td>\n",
       "      <td>0.000000</td>\n",
       "      <td>1.400000</td>\n",
       "      <td>93.994000</td>\n",
       "      <td>-36.400000</td>\n",
       "      <td>4.961000</td>\n",
       "      <td>5228.100000</td>\n",
       "    </tr>\n",
       "    <tr>\n",
       "      <th>max</th>\n",
       "      <td>98.00000</td>\n",
       "      <td>4918.000000</td>\n",
       "      <td>56.000000</td>\n",
       "      <td>999.000000</td>\n",
       "      <td>7.000000</td>\n",
       "      <td>1.400000</td>\n",
       "      <td>94.767000</td>\n",
       "      <td>-26.900000</td>\n",
       "      <td>5.045000</td>\n",
       "      <td>5228.100000</td>\n",
       "    </tr>\n",
       "  </tbody>\n",
       "</table>\n",
       "</div>"
      ],
      "text/plain": [
       "               age      duration      campaign         pdays      previous  \\\n",
       "count  41188.00000  41188.000000  41188.000000  41188.000000  41188.000000   \n",
       "mean      40.02406    258.285010      2.567593    962.475454      0.172963   \n",
       "std       10.42125    259.279249      2.770014    186.910907      0.494901   \n",
       "min       17.00000      0.000000      1.000000      0.000000      0.000000   \n",
       "25%       32.00000    102.000000      1.000000    999.000000      0.000000   \n",
       "50%       38.00000    180.000000      2.000000    999.000000      0.000000   \n",
       "75%       47.00000    319.000000      3.000000    999.000000      0.000000   \n",
       "max       98.00000   4918.000000     56.000000    999.000000      7.000000   \n",
       "\n",
       "       emp.var.rate  cons.price.idx  cons.conf.idx     euribor3m   nr.employed  \n",
       "count  41188.000000    41188.000000   41188.000000  41188.000000  41188.000000  \n",
       "mean       0.081886       93.575664     -40.502600      3.621291   5167.035911  \n",
       "std        1.570960        0.578840       4.628198      1.734447     72.251528  \n",
       "min       -3.400000       92.201000     -50.800000      0.634000   4963.600000  \n",
       "25%       -1.800000       93.075000     -42.700000      1.344000   5099.100000  \n",
       "50%        1.100000       93.749000     -41.800000      4.857000   5191.000000  \n",
       "75%        1.400000       93.994000     -36.400000      4.961000   5228.100000  \n",
       "max        1.400000       94.767000     -26.900000      5.045000   5228.100000  "
      ]
     },
     "execution_count": 5,
     "metadata": {},
     "output_type": "execute_result"
    }
   ],
   "source": [
    "bank_data.describe()"
   ]
  },
  {
   "cell_type": "markdown",
   "metadata": {
    "id": "BjuFhdRcENSv"
   },
   "source": [
    "## Exploratory Data Analysis before Data Cleaning\n",
    "\n",
    "* Demographics\n",
    "* Last Campaign Details\n",
    "* Campaign History\n",
    "* Socio-economic factors\n",
    "\n",
    "---\n",
    "\n",
    "\n"
   ]
  },
  {
   "cell_type": "markdown",
   "metadata": {
    "id": "o4Irz0p0d6eN"
   },
   "source": [
    "\n",
    "#### Initial Basic *Statistics*"
   ]
  },
  {
   "cell_type": "code",
   "execution_count": 6,
   "metadata": {
    "colab": {
     "base_uri": "https://localhost:8080/"
    },
    "id": "d78zVOojSg-J",
    "outputId": "f598a79f-9624-4a79-9450-4ec98b2c6ba0"
   },
   "outputs": [
    {
     "data": {
      "text/plain": [
       "no     36548\n",
       "yes     4640\n",
       "Name: y, dtype: int64"
      ]
     },
     "execution_count": 6,
     "metadata": {},
     "output_type": "execute_result"
    }
   ],
   "source": [
    "bank_data[\"y\"].value_counts()"
   ]
  },
  {
   "cell_type": "code",
   "execution_count": 7,
   "metadata": {
    "colab": {
     "base_uri": "https://localhost:8080/"
    },
    "id": "iuaBnj8pUk31",
    "outputId": "8ba02ca2-a3e9-4564-ca70-a570565144b9"
   },
   "outputs": [
    {
     "name": "stderr",
     "output_type": "stream",
     "text": [
      "/home/ubuntu/anaconda3/envs/repro/lib/python3.8/site-packages/pandas/core/ops/array_ops.py:253: FutureWarning: elementwise comparison failed; returning scalar instead, but in the future will perform elementwise comparison\n",
      "  res_values = method(rvalues)\n"
     ]
    },
    {
     "data": {
      "text/plain": [
       "False    30488\n",
       "True     10700\n",
       "Name: contains_unknown, dtype: int64"
      ]
     },
     "execution_count": 7,
     "metadata": {},
     "output_type": "execute_result"
    }
   ],
   "source": [
    "# check to see the number of missing values, indicated by the term \"unknown\"\n",
    "cols = [x for x in bank_data.columns]\n",
    "bank_data[\"contains_unknown\"] = (bank_data[cols]==\"unknown\").any(axis=\"columns\")\n",
    "bank_data[\"contains_unknown\"].value_counts()"
   ]
  },
  {
   "cell_type": "markdown",
   "metadata": {
    "id": "aknK-5ngaqok"
   },
   "source": [
    "#### Demographics\n",
    "\n",
    "1.   Education\n",
    "2.   Age\n",
    "3. Job\n",
    "4. Marital Status \n",
    "5. Default\n",
    "6. Housing\n",
    "7. Loan\n"
   ]
  },
  {
   "cell_type": "code",
   "execution_count": 8,
   "metadata": {
    "colab": {
     "base_uri": "https://localhost:8080/",
     "height": 400
    },
    "id": "F1bBsGgdn28T",
    "outputId": "0a0034e3-8e39-4414-c5fe-05d826827e1e"
   },
   "outputs": [
    {
     "data": {
      "text/plain": [
       "<seaborn.axisgrid.FacetGrid at 0x7f16df5cbe20>"
      ]
     },
     "execution_count": 8,
     "metadata": {},
     "output_type": "execute_result"
    },
    {
     "data": {
      "image/png": "[encoded data removed]",
      "text/plain": [
       "<Figure size 360x360 with 1 Axes>"
      ]
     },
     "metadata": {
      "needs_background": "light"
     },
     "output_type": "display_data"
    }
   ],
   "source": [
    "# age\n",
    "sns.catplot(y=\"age\", x=\"y\", kind=\"violin\", palette=\"pastel\", split=True, data=bank_data)"
   ]
  },
  {
   "cell_type": "code",
   "execution_count": 9,
   "metadata": {
    "colab": {
     "base_uri": "https://localhost:8080/",
     "height": 623
    },
    "id": "pfTwA--bcF48",
    "outputId": "ff108bf0-f432-4b28-d993-5d46ae30f00d"
   },
   "outputs": [
    {
     "data": {
      "text/plain": [
       "<matplotlib.axes._subplots.AxesSubplot at 0x7f16d60c2820>"
      ]
     },
     "execution_count": 9,
     "metadata": {},
     "output_type": "execute_result"
    },
    {
     "data": {
      "image/png": "[encoded data removed]",
      "text/plain": [
       "<Figure size 1800x720 with 6 Axes>"
      ]
     },
     "metadata": {
      "needs_background": "light"
     },
     "output_type": "display_data"
    }
   ],
   "source": [
    "fig, axs = plt.subplots(2, 3, figsize=(25,10))\n",
    "sns.countplot(y=\"education\", hue=\"y\",\n",
    "            palette=\"pastel\", edgecolor=\".6\",\n",
    "            data=bank_data, ax=axs[0, 0])\n",
    "sns.countplot(y=\"job\", hue=\"y\",\n",
    "            palette=\"pastel\", edgecolor=\".6\",\n",
    "            data=bank_data, ax=axs[0, 1])\n",
    "sns.countplot(y=\"marital\", hue=\"y\",\n",
    "            palette=\"pastel\", edgecolor=\".6\",\n",
    "            data=bank_data, ax=axs[0, 2])\n",
    "sns.countplot(y=\"default\", hue=\"y\",\n",
    "            palette=\"pastel\", edgecolor=\".6\",\n",
    "            data=bank_data, ax=axs[1, 0])\n",
    "sns.countplot(y=\"housing\", hue=\"y\",\n",
    "            palette=\"pastel\", edgecolor=\".6\",\n",
    "            data=bank_data, ax=axs[1, 1])\n",
    "sns.countplot(y=\"loan\", hue=\"y\",\n",
    "            palette=\"pastel\", edgecolor=\".6\",\n",
    "            data=bank_data, ax=axs[1, 2])"
   ]
  },
  {
   "cell_type": "markdown",
   "metadata": {
    "id": "RGK2z87Kg6Db"
   },
   "source": [
    "#### Last Campaign Details\n",
    "\n",
    "1. Contact\n",
    "2. Month\n",
    "3. Day of the Week\n",
    "4. Duration"
   ]
  },
  {
   "cell_type": "code",
   "execution_count": 10,
   "metadata": {
    "colab": {
     "base_uri": "https://localhost:8080/",
     "height": 351
    },
    "id": "cBBVqcVvkGlm",
    "outputId": "8f44221c-14ee-41de-d5f3-bb7b78f3f13a"
   },
   "outputs": [
    {
     "data": {
      "text/plain": [
       "<matplotlib.axes._subplots.AxesSubplot at 0x7f16d5e604f0>"
      ]
     },
     "execution_count": 10,
     "metadata": {},
     "output_type": "execute_result"
    },
    {
     "data": {
      "image/png": "[encoded data removed]",
      "text/plain": [
       "<Figure size 1080x360 with 3 Axes>"
      ]
     },
     "metadata": {
      "needs_background": "light"
     },
     "output_type": "display_data"
    }
   ],
   "source": [
    "fig, axs = plt.subplots(ncols=3, figsize=(15,5))\n",
    "sns.countplot(y=\"contact\", hue=\"y\",\n",
    "            palette=\"pastel\", edgecolor=\".6\",\n",
    "            data=bank_data, ax=axs[0])\n",
    "sns.countplot(y=\"month\", hue=\"y\",\n",
    "            palette=\"pastel\", edgecolor=\".6\",\n",
    "            data=bank_data, ax=axs[1])\n",
    "sns.countplot(y=\"day_of_week\", hue=\"y\",\n",
    "            palette=\"pastel\", edgecolor=\".6\",\n",
    "            data=bank_data, ax=axs[2])"
   ]
  },
  {
   "cell_type": "code",
   "execution_count": 11,
   "metadata": {
    "colab": {
     "base_uri": "https://localhost:8080/",
     "height": 766
    },
    "id": "gZhvWxpvkXAS",
    "outputId": "50a09776-6e4a-479b-8c5f-bb1c0c6b5a03"
   },
   "outputs": [
    {
     "data": {
      "text/plain": [
       "<seaborn.axisgrid.FacetGrid at 0x7f16d5e1c8b0>"
      ]
     },
     "execution_count": 11,
     "metadata": {},
     "output_type": "execute_result"
    },
    {
     "data": {
      "image/png": "[encoded data removed]",
      "text/plain": [
       "<Figure size 360x360 with 1 Axes>"
      ]
     },
     "metadata": {
      "needs_background": "light"
     },
     "output_type": "display_data"
    },
    {
     "data": {
      "image/png": "[encoded data removed]",
      "text/plain": [
       "<Figure size 360x360 with 1 Axes>"
      ]
     },
     "metadata": {
      "needs_background": "light"
     },
     "output_type": "display_data"
    }
   ],
   "source": [
    "sns.catplot(y=\"duration\", x=\"y\", kind=\"violin\", palette=\"pastel\", split=True, data=bank_data)\n",
    "sns.catplot(y=\"duration\", x=\"y\", kind=\"box\", palette=\"pastel\", data=bank_data)"
   ]
  },
  {
   "cell_type": "code",
   "execution_count": null,
   "metadata": {
    "id": "k4GEX-B9kyRJ"
   },
   "outputs": [],
   "source": []
  },
  {
   "cell_type": "markdown",
   "metadata": {
    "id": "6izY9fzNSfSv"
   },
   "source": [
    "#### Campaign History\n",
    "\n",
    "1. number of contacts in this campaign\n",
    "2. number of days since last campaign\n",
    "3. number of contacts before this campaign\n",
    "4. outcome of previous marketing campaign"
   ]
  },
  {
   "cell_type": "code",
   "execution_count": 12,
   "metadata": {
    "colab": {
     "base_uri": "https://localhost:8080/",
     "height": 352
    },
    "id": "vHnBZ33ceWuX",
    "outputId": "92de21a3-60ea-4ace-ba87-c21972a49fc0"
   },
   "outputs": [
    {
     "data": {
      "text/plain": [
       "<matplotlib.axes._subplots.AxesSubplot at 0x7f16d5c5e9d0>"
      ]
     },
     "execution_count": 12,
     "metadata": {},
     "output_type": "execute_result"
    },
    {
     "data": {
      "image/png": "[encoded data removed]",
      "text/plain": [
       "<Figure size 1440x360 with 4 Axes>"
      ]
     },
     "metadata": {
      "needs_background": "light"
     },
     "output_type": "display_data"
    }
   ],
   "source": [
    "fig = plt.figure(figsize=(20, 5))\n",
    "\n",
    "ax = fig.add_subplot(141)\n",
    "sns.violinplot(x=\"y\", y=\"campaign\",\n",
    "               data=bank_data, split=True, ax=ax)\n",
    "\n",
    "ax = fig.add_subplot(142)\n",
    "sns.violinplot(x=\"y\", y=\"pdays\",\n",
    "               data=bank_data, split=True, ax=ax)\n",
    "\n",
    "ax = fig.add_subplot(143)\n",
    "sns.violinplot(x=\"y\", y=\"previous\",\n",
    "               data=bank_data, split=True, ax=ax)\n",
    "\n",
    "ax = fig.add_subplot(144)\n",
    "sns.countplot(x=\"poutcome\", hue=\"y\",\n",
    "            palette=\"pastel\", edgecolor=\".6\",\n",
    "            data=bank_data, ax=ax)"
   ]
  },
  {
   "cell_type": "code",
   "execution_count": 13,
   "metadata": {
    "id": "Q6IB1guMeXwb"
   },
   "outputs": [],
   "source": [
    "pdays_filtered = bank_data[bank_data[\"poutcome\"] == \"nonexistent\"][\"pdays\"]\n",
    "pdays_left = bank_data.loc[bank_data[\"poutcome\"] != \"nonexistent\"][\"pdays\"]"
   ]
  },
  {
   "cell_type": "code",
   "execution_count": 14,
   "metadata": {
    "colab": {
     "base_uri": "https://localhost:8080/"
    },
    "id": "8rZ7JSPP5Txq",
    "outputId": "ac7b7890-b4dd-4b66-f467-e60ff4f70a2b"
   },
   "outputs": [
    {
     "data": {
      "text/plain": [
       "(array([999]), 35563)"
      ]
     },
     "execution_count": 14,
     "metadata": {},
     "output_type": "execute_result"
    }
   ],
   "source": [
    "pdays_filtered.unique(), len(pdays_filtered)"
   ]
  },
  {
   "cell_type": "code",
   "execution_count": 15,
   "metadata": {
    "colab": {
     "base_uri": "https://localhost:8080/"
    },
    "id": "vJX4aObm6PWC",
    "outputId": "2662f749-8281-49c2-b2c6-2e7936cc1492"
   },
   "outputs": [
    {
     "data": {
      "text/plain": [
       "(array([999,   6,   4,   3,   5,   1,   0,  10,   7,   8,   9,  11,   2,\n",
       "         12,  13,  14,  15,  16,  21,  17,  18,  22,  25,  26,  19,  27,\n",
       "         20]),\n",
       " 5625)"
      ]
     },
     "execution_count": 15,
     "metadata": {},
     "output_type": "execute_result"
    }
   ],
   "source": [
    "pdays_left.unique(), len(pdays_left)"
   ]
  },
  {
   "cell_type": "code",
   "execution_count": 16,
   "metadata": {
    "colab": {
     "base_uri": "https://localhost:8080/"
    },
    "id": "vT2OANv47j2E",
    "outputId": "87571075-8eb1-4304-82e1-40904ad8ee67"
   },
   "outputs": [
    {
     "data": {
      "text/plain": [
       "20        1\n",
       "25        1\n",
       "26        1\n",
       "27        1\n",
       "21        2\n",
       "19        3\n",
       "22        3\n",
       "18        7\n",
       "17        8\n",
       "16       11\n",
       "0        15\n",
       "8        18\n",
       "14       20\n",
       "15       24\n",
       "1        26\n",
       "11       28\n",
       "13       36\n",
       "5        46\n",
       "10       52\n",
       "12       58\n",
       "7        60\n",
       "2        61\n",
       "9        64\n",
       "4       118\n",
       "6       412\n",
       "3       439\n",
       "999    4110\n",
       "Name: pdays, dtype: int64"
      ]
     },
     "execution_count": 16,
     "metadata": {},
     "output_type": "execute_result"
    }
   ],
   "source": [
    "pdays_left.value_counts().sort_values()"
   ]
  },
  {
   "cell_type": "markdown",
   "metadata": {
    "id": "zJj-b7Zk52Rh"
   },
   "source": [
    "More than 80% of the data has \"nonexistent\" value and the same corresponding value of \"999\" as seen here. \n",
    "\n",
    "If we look at the other side!"
   ]
  },
  {
   "cell_type": "markdown",
   "metadata": {
    "id": "xQtj1roLdFgQ"
   },
   "source": [
    "#### Socio-Economic Attributes\n",
    "\n",
    "1. Employment Variation Rate (Quarterly)\n",
    "2. Consumer Price Index (Monthly)\n",
    "3. Consumer Confidence Index (Monthly)\n",
    "4. Euribor 3 Month Rate (Daily)\n",
    "5. Number of Employees (Quarterly)"
   ]
  },
  {
   "cell_type": "markdown",
   "metadata": {
    "id": "yNmlTh54ymGU"
   },
   "source": [
    "## Data Pre-processing:\n"
   ]
  },
  {
   "cell_type": "markdown",
   "metadata": {
    "id": "tU-NEOeq3pbv"
   },
   "source": [
    "#### Handling Missing Data: KNN Imputation vs MICE Imputation (Refer to Script Form)"
   ]
  },
  {
   "cell_type": "code",
   "execution_count": 17,
   "metadata": {
    "colab": {
     "base_uri": "https://localhost:8080/"
    },
    "id": "7TcH2dWDtVO6",
    "outputId": "68fa79be-0424-48b6-b1c3-4256946ef48f"
   },
   "outputs": [],
   "source": [
    "# Imputation\n",
    "from sklearn.preprocessing import OrdinalEncoder\n",
    "from fancyimpute import KNN, IterativeImputer"
   ]
  },
  {
   "cell_type": "code",
   "execution_count": 18,
   "metadata": {
    "colab": {
     "base_uri": "https://localhost:8080/"
    },
    "id": "g-uPpiDGyqiC",
    "outputId": "2ccea3bb-75bf-4d1d-ac72-1f982443df9d"
   },
   "outputs": [
    {
     "name": "stderr",
     "output_type": "stream",
     "text": [
      "<ipython-input-18-32ff91b0a708>:25: SettingWithCopyWarning: \n",
      "A value is trying to be set on a copy of a slice from a DataFrame\n",
      "\n",
      "See the caveats in the documentation: https://pandas.pydata.org/pandas-docs/stable/user_guide/indexing.html#returning-a-view-versus-a-copy\n",
      "  coded_bank_data[col_name][value] = encoded_vals[i]\n",
      "<ipython-input-18-32ff91b0a708>:25: SettingWithCopyWarning: \n",
      "A value is trying to be set on a copy of a slice from a DataFrame\n",
      "\n",
      "See the caveats in the documentation: https://pandas.pydata.org/pandas-docs/stable/user_guide/indexing.html#returning-a-view-versus-a-copy\n",
      "  coded_bank_data[col_name][value] = encoded_vals[i]\n",
      "<ipython-input-18-32ff91b0a708>:25: SettingWithCopyWarning: \n",
      "A value is trying to be set on a copy of a slice from a DataFrame\n",
      "\n",
      "See the caveats in the documentation: https://pandas.pydata.org/pandas-docs/stable/user_guide/indexing.html#returning-a-view-versus-a-copy\n",
      "  coded_bank_data[col_name][value] = encoded_vals[i]\n",
      "<ipython-input-18-32ff91b0a708>:25: SettingWithCopyWarning: \n",
      "A value is trying to be set on a copy of a slice from a DataFrame\n",
      "\n",
      "See the caveats in the documentation: https://pandas.pydata.org/pandas-docs/stable/user_guide/indexing.html#returning-a-view-versus-a-copy\n",
      "  coded_bank_data[col_name][value] = encoded_vals[i]\n",
      "<ipython-input-18-32ff91b0a708>:25: SettingWithCopyWarning: \n",
      "A value is trying to be set on a copy of a slice from a DataFrame\n",
      "\n",
      "See the caveats in the documentation: https://pandas.pydata.org/pandas-docs/stable/user_guide/indexing.html#returning-a-view-versus-a-copy\n",
      "  coded_bank_data[col_name][value] = encoded_vals[i]\n",
      "<ipython-input-18-32ff91b0a708>:25: SettingWithCopyWarning: \n",
      "A value is trying to be set on a copy of a slice from a DataFrame\n",
      "\n",
      "See the caveats in the documentation: https://pandas.pydata.org/pandas-docs/stable/user_guide/indexing.html#returning-a-view-versus-a-copy\n",
      "  coded_bank_data[col_name][value] = encoded_vals[i]\n",
      "<ipython-input-18-32ff91b0a708>:25: SettingWithCopyWarning: \n",
      "A value is trying to be set on a copy of a slice from a DataFrame\n",
      "\n",
      "See the caveats in the documentation: https://pandas.pydata.org/pandas-docs/stable/user_guide/indexing.html#returning-a-view-versus-a-copy\n",
      "  coded_bank_data[col_name][value] = encoded_vals[i]\n",
      "<ipython-input-18-32ff91b0a708>:25: SettingWithCopyWarning: \n",
      "A value is trying to be set on a copy of a slice from a DataFrame\n",
      "\n",
      "See the caveats in the documentation: https://pandas.pydata.org/pandas-docs/stable/user_guide/indexing.html#returning-a-view-versus-a-copy\n",
      "  coded_bank_data[col_name][value] = encoded_vals[i]\n",
      "<ipython-input-18-32ff91b0a708>:25: SettingWithCopyWarning: \n",
      "A value is trying to be set on a copy of a slice from a DataFrame\n",
      "\n",
      "See the caveats in the documentation: https://pandas.pydata.org/pandas-docs/stable/user_guide/indexing.html#returning-a-view-versus-a-copy\n",
      "  coded_bank_data[col_name][value] = encoded_vals[i]\n",
      "<ipython-input-18-32ff91b0a708>:25: SettingWithCopyWarning: \n",
      "A value is trying to be set on a copy of a slice from a DataFrame\n",
      "\n",
      "See the caveats in the documentation: https://pandas.pydata.org/pandas-docs/stable/user_guide/indexing.html#returning-a-view-versus-a-copy\n",
      "  coded_bank_data[col_name][value] = encoded_vals[i]\n",
      "<ipython-input-18-32ff91b0a708>:25: SettingWithCopyWarning: \n",
      "A value is trying to be set on a copy of a slice from a DataFrame\n",
      "\n",
      "See the caveats in the documentation: https://pandas.pydata.org/pandas-docs/stable/user_guide/indexing.html#returning-a-view-versus-a-copy\n",
      "  coded_bank_data[col_name][value] = encoded_vals[i]\n"
     ]
    }
   ],
   "source": [
    "# create ordinal encoder\n",
    "coded_bank_data = bank_data.copy()\n",
    "ordinal_enc_dict = {}\n",
    "\n",
    "col_names = [\"education\",\"job\", \"marital\", \"default\", \"loan\", \"housing\", \n",
    "             \"contact\", \"month\", \"day_of_week\", \"poutcome\", \"y\"]\n",
    "\n",
    "for col_name in col_names:\n",
    "\n",
    "  ordinal_enc_dict[col_name] = OrdinalEncoder()\n",
    "\n",
    "  col = bank_data[col_name]\n",
    "  list_of_indices_not_na = []\n",
    "  for i, value in enumerate(col):\n",
    "    if value != \"unknown\": list_of_indices_not_na.append(i)\n",
    "\n",
    "  col = col.replace({\"unknown\": np.nan})\n",
    "  col_notna = col[col.notna()]\n",
    "  reshaped_colvalues = col_notna.values.reshape(-1,1)\n",
    "\n",
    "  encoded_vals = ordinal_enc_dict[col_name].fit_transform(reshaped_colvalues)\n",
    "\n",
    "  for i, value in enumerate(list_of_indices_not_na):\n",
    "    \n",
    "    coded_bank_data[col_name][value] = encoded_vals[i]"
   ]
  },
  {
   "cell_type": "code",
   "execution_count": 19,
   "metadata": {
    "colab": {
     "base_uri": "https://localhost:8080/"
    },
    "id": "dRxLMpGyylkE",
    "outputId": "24a40027-732e-43b3-9486-f61f75c008e6"
   },
   "outputs": [
    {
     "name": "stderr",
     "output_type": "stream",
     "text": [
      "/home/ubuntu/anaconda3/envs/repro/lib/python3.8/site-packages/pandas/core/internals/managers.py:1911: FutureWarning: elementwise comparison failed; returning scalar instead, but in the future will perform elementwise comparison\n",
      "  op = lambda x: operator.eq(x, b)\n"
     ]
    }
   ],
   "source": [
    "coded_bank_data = coded_bank_data.replace({\"unknown\": np.nan})"
   ]
  },
  {
   "cell_type": "code",
   "execution_count": 20,
   "metadata": {
    "colab": {
     "base_uri": "https://localhost:8080/",
     "height": 224
    },
    "id": "hg-9TCfoyk4K",
    "outputId": "edb0eb9f-a5ad-4994-e512-b23efbface99"
   },
   "outputs": [
    {
     "data": {
      "text/html": [
       "<div>\n",
       "<style scoped>\n",
       "    .dataframe tbody tr th:only-of-type {\n",
       "        vertical-align: middle;\n",
       "    }\n",
       "\n",
       "    .dataframe tbody tr th {\n",
       "        vertical-align: top;\n",
       "    }\n",
       "\n",
       "    .dataframe thead th {\n",
       "        text-align: right;\n",
       "    }\n",
       "</style>\n",
       "<table border=\"1\" class=\"dataframe\">\n",
       "  <thead>\n",
       "    <tr style=\"text-align: right;\">\n",
       "      <th></th>\n",
       "      <th>age</th>\n",
       "      <th>job</th>\n",
       "      <th>marital</th>\n",
       "      <th>education</th>\n",
       "      <th>default</th>\n",
       "      <th>housing</th>\n",
       "      <th>loan</th>\n",
       "      <th>contact</th>\n",
       "      <th>month</th>\n",
       "      <th>day_of_week</th>\n",
       "      <th>...</th>\n",
       "      <th>pdays</th>\n",
       "      <th>previous</th>\n",
       "      <th>poutcome</th>\n",
       "      <th>emp.var.rate</th>\n",
       "      <th>cons.price.idx</th>\n",
       "      <th>cons.conf.idx</th>\n",
       "      <th>euribor3m</th>\n",
       "      <th>nr.employed</th>\n",
       "      <th>y</th>\n",
       "      <th>contains_unknown</th>\n",
       "    </tr>\n",
       "  </thead>\n",
       "  <tbody>\n",
       "    <tr>\n",
       "      <th>0</th>\n",
       "      <td>56</td>\n",
       "      <td>[3.0]</td>\n",
       "      <td>[1.0]</td>\n",
       "      <td>[0.0]</td>\n",
       "      <td>[0.0]</td>\n",
       "      <td>[0.0]</td>\n",
       "      <td>[0.0]</td>\n",
       "      <td>[1.0]</td>\n",
       "      <td>[6.0]</td>\n",
       "      <td>[1.0]</td>\n",
       "      <td>...</td>\n",
       "      <td>999</td>\n",
       "      <td>0</td>\n",
       "      <td>[1.0]</td>\n",
       "      <td>1.1</td>\n",
       "      <td>93.994</td>\n",
       "      <td>-36.4</td>\n",
       "      <td>4.857</td>\n",
       "      <td>5191.0</td>\n",
       "      <td>[0.0]</td>\n",
       "      <td>False</td>\n",
       "    </tr>\n",
       "    <tr>\n",
       "      <th>1</th>\n",
       "      <td>57</td>\n",
       "      <td>[7.0]</td>\n",
       "      <td>[1.0]</td>\n",
       "      <td>[3.0]</td>\n",
       "      <td>NaN</td>\n",
       "      <td>[0.0]</td>\n",
       "      <td>[0.0]</td>\n",
       "      <td>[1.0]</td>\n",
       "      <td>[6.0]</td>\n",
       "      <td>[1.0]</td>\n",
       "      <td>...</td>\n",
       "      <td>999</td>\n",
       "      <td>0</td>\n",
       "      <td>[1.0]</td>\n",
       "      <td>1.1</td>\n",
       "      <td>93.994</td>\n",
       "      <td>-36.4</td>\n",
       "      <td>4.857</td>\n",
       "      <td>5191.0</td>\n",
       "      <td>[0.0]</td>\n",
       "      <td>True</td>\n",
       "    </tr>\n",
       "    <tr>\n",
       "      <th>2</th>\n",
       "      <td>37</td>\n",
       "      <td>[7.0]</td>\n",
       "      <td>[1.0]</td>\n",
       "      <td>[3.0]</td>\n",
       "      <td>[0.0]</td>\n",
       "      <td>[1.0]</td>\n",
       "      <td>[0.0]</td>\n",
       "      <td>[1.0]</td>\n",
       "      <td>[6.0]</td>\n",
       "      <td>[1.0]</td>\n",
       "      <td>...</td>\n",
       "      <td>999</td>\n",
       "      <td>0</td>\n",
       "      <td>[1.0]</td>\n",
       "      <td>1.1</td>\n",
       "      <td>93.994</td>\n",
       "      <td>-36.4</td>\n",
       "      <td>4.857</td>\n",
       "      <td>5191.0</td>\n",
       "      <td>[0.0]</td>\n",
       "      <td>False</td>\n",
       "    </tr>\n",
       "    <tr>\n",
       "      <th>3</th>\n",
       "      <td>40</td>\n",
       "      <td>[0.0]</td>\n",
       "      <td>[1.0]</td>\n",
       "      <td>[1.0]</td>\n",
       "      <td>[0.0]</td>\n",
       "      <td>[0.0]</td>\n",
       "      <td>[0.0]</td>\n",
       "      <td>[1.0]</td>\n",
       "      <td>[6.0]</td>\n",
       "      <td>[1.0]</td>\n",
       "      <td>...</td>\n",
       "      <td>999</td>\n",
       "      <td>0</td>\n",
       "      <td>[1.0]</td>\n",
       "      <td>1.1</td>\n",
       "      <td>93.994</td>\n",
       "      <td>-36.4</td>\n",
       "      <td>4.857</td>\n",
       "      <td>5191.0</td>\n",
       "      <td>[0.0]</td>\n",
       "      <td>False</td>\n",
       "    </tr>\n",
       "    <tr>\n",
       "      <th>4</th>\n",
       "      <td>56</td>\n",
       "      <td>[7.0]</td>\n",
       "      <td>[1.0]</td>\n",
       "      <td>[3.0]</td>\n",
       "      <td>[0.0]</td>\n",
       "      <td>[0.0]</td>\n",
       "      <td>[1.0]</td>\n",
       "      <td>[1.0]</td>\n",
       "      <td>[6.0]</td>\n",
       "      <td>[1.0]</td>\n",
       "      <td>...</td>\n",
       "      <td>999</td>\n",
       "      <td>0</td>\n",
       "      <td>[1.0]</td>\n",
       "      <td>1.1</td>\n",
       "      <td>93.994</td>\n",
       "      <td>-36.4</td>\n",
       "      <td>4.857</td>\n",
       "      <td>5191.0</td>\n",
       "      <td>[0.0]</td>\n",
       "      <td>False</td>\n",
       "    </tr>\n",
       "  </tbody>\n",
       "</table>\n",
       "<p>5 rows × 22 columns</p>\n",
       "</div>"
      ],
      "text/plain": [
       "   age    job marital education default housing   loan contact  month  \\\n",
       "0   56  [3.0]   [1.0]     [0.0]   [0.0]   [0.0]  [0.0]   [1.0]  [6.0]   \n",
       "1   57  [7.0]   [1.0]     [3.0]     NaN   [0.0]  [0.0]   [1.0]  [6.0]   \n",
       "2   37  [7.0]   [1.0]     [3.0]   [0.0]   [1.0]  [0.0]   [1.0]  [6.0]   \n",
       "3   40  [0.0]   [1.0]     [1.0]   [0.0]   [0.0]  [0.0]   [1.0]  [6.0]   \n",
       "4   56  [7.0]   [1.0]     [3.0]   [0.0]   [0.0]  [1.0]   [1.0]  [6.0]   \n",
       "\n",
       "  day_of_week  ...  pdays  previous  poutcome  emp.var.rate cons.price.idx  \\\n",
       "0       [1.0]  ...    999         0     [1.0]           1.1         93.994   \n",
       "1       [1.0]  ...    999         0     [1.0]           1.1         93.994   \n",
       "2       [1.0]  ...    999         0     [1.0]           1.1         93.994   \n",
       "3       [1.0]  ...    999         0     [1.0]           1.1         93.994   \n",
       "4       [1.0]  ...    999         0     [1.0]           1.1         93.994   \n",
       "\n",
       "   cons.conf.idx  euribor3m  nr.employed      y  contains_unknown  \n",
       "0          -36.4      4.857       5191.0  [0.0]             False  \n",
       "1          -36.4      4.857       5191.0  [0.0]              True  \n",
       "2          -36.4      4.857       5191.0  [0.0]             False  \n",
       "3          -36.4      4.857       5191.0  [0.0]             False  \n",
       "4          -36.4      4.857       5191.0  [0.0]             False  \n",
       "\n",
       "[5 rows x 22 columns]"
      ]
     },
     "execution_count": 20,
     "metadata": {},
     "output_type": "execute_result"
    }
   ],
   "source": [
    "coded_bank_data.head()"
   ]
  },
  {
   "cell_type": "code",
   "execution_count": 21,
   "metadata": {
    "id": "7yZjcO5_x8zv"
   },
   "outputs": [
    {
     "name": "stdout",
     "output_type": "stream",
     "text": [
      "Imputing row 1/41188 with 0 missing, elapsed time: 381.550\n",
      "Imputing row 101/41188 with 1 missing, elapsed time: 381.571\n",
      "Imputing row 201/41188 with 0 missing, elapsed time: 381.590\n",
      "Imputing row 301/41188 with 1 missing, elapsed time: 381.604\n",
      "Imputing row 401/41188 with 0 missing, elapsed time: 381.618\n",
      "Imputing row 501/41188 with 1 missing, elapsed time: 381.640\n",
      "Imputing row 601/41188 with 0 missing, elapsed time: 381.663\n",
      "Imputing row 701/41188 with 0 missing, elapsed time: 381.676\n",
      "Imputing row 801/41188 with 1 missing, elapsed time: 381.695\n",
      "Imputing row 901/41188 with 0 missing, elapsed time: 381.708\n",
      "Imputing row 1001/41188 with 0 missing, elapsed time: 381.726\n",
      "Imputing row 1101/41188 with 0 missing, elapsed time: 381.744\n",
      "Imputing row 1201/41188 with 0 missing, elapsed time: 381.759\n",
      "Imputing row 1301/41188 with 0 missing, elapsed time: 381.771\n",
      "Imputing row 1401/41188 with 1 missing, elapsed time: 381.781\n",
      "Imputing row 1501/41188 with 0 missing, elapsed time: 381.792\n",
      "Imputing row 1601/41188 with 0 missing, elapsed time: 381.803\n",
      "Imputing row 1701/41188 with 0 missing, elapsed time: 381.815\n",
      "Imputing row 1801/41188 with 0 missing, elapsed time: 381.823\n",
      "Imputing row 1901/41188 with 0 missing, elapsed time: 381.836\n",
      "Imputing row 2001/41188 with 0 missing, elapsed time: 381.852\n",
      "Imputing row 2101/41188 with 0 missing, elapsed time: 381.868\n",
      "Imputing row 2201/41188 with 1 missing, elapsed time: 381.883\n",
      "Imputing row 2301/41188 with 0 missing, elapsed time: 381.901\n",
      "Imputing row 2401/41188 with 0 missing, elapsed time: 381.920\n",
      "Imputing row 2501/41188 with 0 missing, elapsed time: 381.938\n",
      "Imputing row 2601/41188 with 0 missing, elapsed time: 381.956\n",
      "Imputing row 2701/41188 with 0 missing, elapsed time: 381.976\n",
      "Imputing row 2801/41188 with 0 missing, elapsed time: 381.995\n",
      "Imputing row 2901/41188 with 1 missing, elapsed time: 382.005\n",
      "Imputing row 3001/41188 with 0 missing, elapsed time: 382.015\n",
      "Imputing row 3101/41188 with 1 missing, elapsed time: 382.031\n",
      "Imputing row 3201/41188 with 0 missing, elapsed time: 382.048\n",
      "Imputing row 3301/41188 with 0 missing, elapsed time: 382.065\n",
      "Imputing row 3401/41188 with 0 missing, elapsed time: 382.082\n",
      "Imputing row 3501/41188 with 1 missing, elapsed time: 382.096\n",
      "Imputing row 3601/41188 with 1 missing, elapsed time: 382.110\n",
      "Imputing row 3701/41188 with 0 missing, elapsed time: 382.125\n",
      "Imputing row 3801/41188 with 0 missing, elapsed time: 382.137\n",
      "Imputing row 3901/41188 with 0 missing, elapsed time: 382.150\n",
      "Imputing row 4001/41188 with 3 missing, elapsed time: 382.166\n",
      "Imputing row 4101/41188 with 0 missing, elapsed time: 382.182\n",
      "Imputing row 4201/41188 with 1 missing, elapsed time: 382.197\n",
      "Imputing row 4301/41188 with 2 missing, elapsed time: 382.211\n",
      "Imputing row 4401/41188 with 1 missing, elapsed time: 382.229\n",
      "Imputing row 4501/41188 with 0 missing, elapsed time: 382.243\n",
      "Imputing row 4601/41188 with 1 missing, elapsed time: 382.258\n",
      "Imputing row 4701/41188 with 1 missing, elapsed time: 382.267\n",
      "Imputing row 4801/41188 with 0 missing, elapsed time: 382.277\n",
      "Imputing row 4901/41188 with 0 missing, elapsed time: 382.290\n",
      "Imputing row 5001/41188 with 1 missing, elapsed time: 382.308\n",
      "Imputing row 5101/41188 with 0 missing, elapsed time: 382.321\n",
      "Imputing row 5201/41188 with 3 missing, elapsed time: 382.333\n",
      "Imputing row 5301/41188 with 0 missing, elapsed time: 382.347\n",
      "Imputing row 5401/41188 with 1 missing, elapsed time: 382.362\n",
      "Imputing row 5501/41188 with 0 missing, elapsed time: 382.373\n",
      "Imputing row 5601/41188 with 0 missing, elapsed time: 382.389\n",
      "Imputing row 5701/41188 with 0 missing, elapsed time: 382.405\n",
      "Imputing row 5801/41188 with 0 missing, elapsed time: 382.416\n",
      "Imputing row 5901/41188 with 3 missing, elapsed time: 382.427\n",
      "Imputing row 6001/41188 with 1 missing, elapsed time: 382.436\n",
      "Imputing row 6101/41188 with 0 missing, elapsed time: 382.448\n",
      "Imputing row 6201/41188 with 0 missing, elapsed time: 382.458\n",
      "Imputing row 6301/41188 with 0 missing, elapsed time: 382.470\n",
      "Imputing row 6401/41188 with 1 missing, elapsed time: 382.481\n",
      "Imputing row 6501/41188 with 0 missing, elapsed time: 382.496\n",
      "Imputing row 6601/41188 with 0 missing, elapsed time: 382.503\n",
      "Imputing row 6701/41188 with 1 missing, elapsed time: 382.518\n",
      "Imputing row 6801/41188 with 0 missing, elapsed time: 382.531\n",
      "Imputing row 6901/41188 with 0 missing, elapsed time: 382.542\n",
      "Imputing row 7001/41188 with 0 missing, elapsed time: 382.561\n",
      "Imputing row 7101/41188 with 0 missing, elapsed time: 382.575\n",
      "Imputing row 7201/41188 with 1 missing, elapsed time: 382.590\n",
      "Imputing row 7301/41188 with 0 missing, elapsed time: 382.605\n",
      "Imputing row 7401/41188 with 0 missing, elapsed time: 382.619\n",
      "Imputing row 7501/41188 with 1 missing, elapsed time: 382.634\n",
      "Imputing row 7601/41188 with 1 missing, elapsed time: 382.652\n",
      "Imputing row 7701/41188 with 0 missing, elapsed time: 382.663\n",
      "Imputing row 7801/41188 with 1 missing, elapsed time: 382.677\n",
      "Imputing row 7901/41188 with 1 missing, elapsed time: 382.691\n",
      "Imputing row 8001/41188 with 1 missing, elapsed time: 382.705\n",
      "Imputing row 8101/41188 with 0 missing, elapsed time: 382.718\n",
      "Imputing row 8201/41188 with 0 missing, elapsed time: 382.731\n",
      "Imputing row 8301/41188 with 0 missing, elapsed time: 382.746\n",
      "Imputing row 8401/41188 with 0 missing, elapsed time: 382.760\n",
      "Imputing row 8501/41188 with 0 missing, elapsed time: 382.774\n",
      "Imputing row 8601/41188 with 0 missing, elapsed time: 382.785\n",
      "Imputing row 8701/41188 with 0 missing, elapsed time: 382.799\n",
      "Imputing row 8801/41188 with 1 missing, elapsed time: 382.812\n",
      "Imputing row 8901/41188 with 1 missing, elapsed time: 382.830\n",
      "Imputing row 9001/41188 with 1 missing, elapsed time: 382.850\n",
      "Imputing row 9101/41188 with 0 missing, elapsed time: 382.868\n",
      "Imputing row 9201/41188 with 0 missing, elapsed time: 382.881\n",
      "Imputing row 9301/41188 with 2 missing, elapsed time: 382.900\n",
      "Imputing row 9401/41188 with 0 missing, elapsed time: 382.922\n",
      "Imputing row 9501/41188 with 1 missing, elapsed time: 382.932\n",
      "Imputing row 9601/41188 with 0 missing, elapsed time: 382.947\n",
      "Imputing row 9701/41188 with 1 missing, elapsed time: 382.957\n",
      "Imputing row 9801/41188 with 1 missing, elapsed time: 382.971\n",
      "Imputing row 9901/41188 with 1 missing, elapsed time: 382.984\n",
      "Imputing row 10001/41188 with 0 missing, elapsed time: 383.002\n",
      "Imputing row 10101/41188 with 0 missing, elapsed time: 383.023\n",
      "Imputing row 10201/41188 with 1 missing, elapsed time: 383.036\n",
      "Imputing row 10301/41188 with 1 missing, elapsed time: 383.050\n",
      "Imputing row 10401/41188 with 0 missing, elapsed time: 383.064\n",
      "Imputing row 10501/41188 with 0 missing, elapsed time: 383.077\n",
      "Imputing row 10601/41188 with 1 missing, elapsed time: 383.091\n",
      "Imputing row 10701/41188 with 0 missing, elapsed time: 383.108\n",
      "Imputing row 10801/41188 with 1 missing, elapsed time: 383.119\n",
      "Imputing row 10901/41188 with 0 missing, elapsed time: 383.137\n",
      "Imputing row 11001/41188 with 0 missing, elapsed time: 383.150\n",
      "Imputing row 11101/41188 with 1 missing, elapsed time: 383.167\n",
      "Imputing row 11201/41188 with 1 missing, elapsed time: 383.184\n",
      "Imputing row 11301/41188 with 1 missing, elapsed time: 383.201\n",
      "Imputing row 11401/41188 with 1 missing, elapsed time: 383.218\n",
      "Imputing row 11501/41188 with 2 missing, elapsed time: 383.235\n",
      "Imputing row 11601/41188 with 0 missing, elapsed time: 383.248\n",
      "Imputing row 11701/41188 with 0 missing, elapsed time: 383.263\n",
      "Imputing row 11801/41188 with 1 missing, elapsed time: 383.275\n",
      "Imputing row 11901/41188 with 0 missing, elapsed time: 383.292\n",
      "Imputing row 12001/41188 with 0 missing, elapsed time: 383.309\n",
      "Imputing row 12101/41188 with 0 missing, elapsed time: 383.321\n",
      "Imputing row 12201/41188 with 0 missing, elapsed time: 383.332\n",
      "Imputing row 12301/41188 with 0 missing, elapsed time: 383.343\n",
      "Imputing row 12401/41188 with 0 missing, elapsed time: 383.354\n",
      "Imputing row 12501/41188 with 1 missing, elapsed time: 383.369\n",
      "Imputing row 12601/41188 with 0 missing, elapsed time: 383.383\n",
      "Imputing row 12701/41188 with 0 missing, elapsed time: 383.397\n",
      "Imputing row 12801/41188 with 0 missing, elapsed time: 383.411\n",
      "Imputing row 12901/41188 with 1 missing, elapsed time: 383.423\n",
      "Imputing row 13001/41188 with 0 missing, elapsed time: 383.437\n",
      "Imputing row 13101/41188 with 2 missing, elapsed time: 383.447\n",
      "Imputing row 13201/41188 with 1 missing, elapsed time: 383.456\n",
      "Imputing row 13301/41188 with 0 missing, elapsed time: 383.466\n",
      "Imputing row 13401/41188 with 1 missing, elapsed time: 383.476\n",
      "Imputing row 13501/41188 with 0 missing, elapsed time: 383.488\n",
      "Imputing row 13601/41188 with 0 missing, elapsed time: 383.497\n",
      "Imputing row 13701/41188 with 0 missing, elapsed time: 383.505\n",
      "Imputing row 13801/41188 with 0 missing, elapsed time: 383.516\n",
      "Imputing row 13901/41188 with 0 missing, elapsed time: 383.528\n",
      "Imputing row 14001/41188 with 1 missing, elapsed time: 383.540\n",
      "Imputing row 14101/41188 with 0 missing, elapsed time: 383.548\n",
      "Imputing row 14201/41188 with 0 missing, elapsed time: 383.558\n",
      "Imputing row 14301/41188 with 0 missing, elapsed time: 383.567\n",
      "Imputing row 14401/41188 with 0 missing, elapsed time: 383.575\n",
      "Imputing row 14501/41188 with 0 missing, elapsed time: 383.588\n",
      "Imputing row 14601/41188 with 0 missing, elapsed time: 383.602\n",
      "Imputing row 14701/41188 with 0 missing, elapsed time: 383.614\n"
     ]
    },
    {
     "name": "stdout",
     "output_type": "stream",
     "text": [
      "Imputing row 14801/41188 with 0 missing, elapsed time: 383.633\n",
      "Imputing row 14901/41188 with 0 missing, elapsed time: 383.641\n",
      "Imputing row 15001/41188 with 0 missing, elapsed time: 383.651\n",
      "Imputing row 15101/41188 with 1 missing, elapsed time: 383.663\n",
      "Imputing row 15201/41188 with 1 missing, elapsed time: 383.677\n",
      "Imputing row 15301/41188 with 0 missing, elapsed time: 383.692\n",
      "Imputing row 15401/41188 with 0 missing, elapsed time: 383.700\n",
      "Imputing row 15501/41188 with 0 missing, elapsed time: 383.710\n",
      "Imputing row 15601/41188 with 0 missing, elapsed time: 383.720\n",
      "Imputing row 15701/41188 with 1 missing, elapsed time: 383.729\n",
      "Imputing row 15801/41188 with 0 missing, elapsed time: 383.737\n",
      "Imputing row 15901/41188 with 0 missing, elapsed time: 383.748\n",
      "Imputing row 16001/41188 with 1 missing, elapsed time: 383.762\n",
      "Imputing row 16101/41188 with 0 missing, elapsed time: 383.775\n",
      "Imputing row 16201/41188 with 0 missing, elapsed time: 383.786\n",
      "Imputing row 16301/41188 with 0 missing, elapsed time: 383.803\n",
      "Imputing row 16401/41188 with 0 missing, elapsed time: 383.816\n",
      "Imputing row 16501/41188 with 0 missing, elapsed time: 383.827\n",
      "Imputing row 16601/41188 with 0 missing, elapsed time: 383.839\n",
      "Imputing row 16701/41188 with 0 missing, elapsed time: 383.852\n",
      "Imputing row 16801/41188 with 0 missing, elapsed time: 383.863\n",
      "Imputing row 16901/41188 with 0 missing, elapsed time: 383.881\n",
      "Imputing row 17001/41188 with 1 missing, elapsed time: 383.897\n",
      "Imputing row 17101/41188 with 0 missing, elapsed time: 383.907\n",
      "Imputing row 17201/41188 with 0 missing, elapsed time: 383.922\n",
      "Imputing row 17301/41188 with 1 missing, elapsed time: 383.939\n",
      "Imputing row 17401/41188 with 0 missing, elapsed time: 383.957\n",
      "Imputing row 17501/41188 with 0 missing, elapsed time: 383.977\n",
      "Imputing row 17601/41188 with 0 missing, elapsed time: 383.992\n",
      "Imputing row 17701/41188 with 1 missing, elapsed time: 384.009\n",
      "Imputing row 17801/41188 with 2 missing, elapsed time: 384.025\n",
      "Imputing row 17901/41188 with 0 missing, elapsed time: 384.038\n",
      "Imputing row 18001/41188 with 1 missing, elapsed time: 384.051\n",
      "Imputing row 18101/41188 with 0 missing, elapsed time: 384.061\n",
      "Imputing row 18201/41188 with 0 missing, elapsed time: 384.069\n",
      "Imputing row 18301/41188 with 0 missing, elapsed time: 384.080\n",
      "Imputing row 18401/41188 with 0 missing, elapsed time: 384.088\n",
      "Imputing row 18501/41188 with 0 missing, elapsed time: 384.098\n",
      "Imputing row 18601/41188 with 0 missing, elapsed time: 384.108\n",
      "Imputing row 18701/41188 with 0 missing, elapsed time: 384.118\n",
      "Imputing row 18801/41188 with 0 missing, elapsed time: 384.129\n",
      "Imputing row 18901/41188 with 0 missing, elapsed time: 384.140\n",
      "Imputing row 19001/41188 with 0 missing, elapsed time: 384.152\n",
      "Imputing row 19101/41188 with 0 missing, elapsed time: 384.162\n",
      "Imputing row 19201/41188 with 0 missing, elapsed time: 384.172\n",
      "Imputing row 19301/41188 with 0 missing, elapsed time: 384.182\n",
      "Imputing row 19401/41188 with 1 missing, elapsed time: 384.196\n",
      "Imputing row 19501/41188 with 1 missing, elapsed time: 384.206\n",
      "Imputing row 19601/41188 with 1 missing, elapsed time: 384.217\n",
      "Imputing row 19701/41188 with 1 missing, elapsed time: 384.228\n",
      "Imputing row 19801/41188 with 0 missing, elapsed time: 384.237\n",
      "Imputing row 19901/41188 with 0 missing, elapsed time: 384.251\n",
      "Imputing row 20001/41188 with 0 missing, elapsed time: 384.263\n",
      "Imputing row 20101/41188 with 0 missing, elapsed time: 384.270\n",
      "Imputing row 20201/41188 with 0 missing, elapsed time: 384.278\n",
      "Imputing row 20301/41188 with 1 missing, elapsed time: 384.285\n",
      "Imputing row 20401/41188 with 0 missing, elapsed time: 384.294\n",
      "Imputing row 20501/41188 with 0 missing, elapsed time: 384.303\n",
      "Imputing row 20601/41188 with 0 missing, elapsed time: 384.311\n",
      "Imputing row 20701/41188 with 0 missing, elapsed time: 384.323\n",
      "Imputing row 20801/41188 with 1 missing, elapsed time: 384.335\n",
      "Imputing row 20901/41188 with 1 missing, elapsed time: 384.346\n",
      "Imputing row 21001/41188 with 0 missing, elapsed time: 384.355\n",
      "Imputing row 21101/41188 with 0 missing, elapsed time: 384.368\n",
      "Imputing row 21201/41188 with 0 missing, elapsed time: 384.379\n",
      "Imputing row 21301/41188 with 2 missing, elapsed time: 384.388\n",
      "Imputing row 21401/41188 with 0 missing, elapsed time: 384.400\n",
      "Imputing row 21501/41188 with 0 missing, elapsed time: 384.410\n",
      "Imputing row 21601/41188 with 1 missing, elapsed time: 384.419\n",
      "Imputing row 21701/41188 with 0 missing, elapsed time: 384.428\n",
      "Imputing row 21801/41188 with 1 missing, elapsed time: 384.439\n",
      "Imputing row 21901/41188 with 0 missing, elapsed time: 384.444\n",
      "Imputing row 22001/41188 with 0 missing, elapsed time: 384.452\n",
      "Imputing row 22101/41188 with 0 missing, elapsed time: 384.461\n",
      "Imputing row 22201/41188 with 2 missing, elapsed time: 384.469\n",
      "Imputing row 22301/41188 with 0 missing, elapsed time: 384.481\n",
      "Imputing row 22401/41188 with 1 missing, elapsed time: 384.493\n",
      "Imputing row 22501/41188 with 0 missing, elapsed time: 384.510\n",
      "Imputing row 22601/41188 with 1 missing, elapsed time: 384.520\n",
      "Imputing row 22701/41188 with 0 missing, elapsed time: 384.531\n",
      "Imputing row 22801/41188 with 0 missing, elapsed time: 384.540\n",
      "Imputing row 22901/41188 with 0 missing, elapsed time: 384.548\n",
      "Imputing row 23001/41188 with 0 missing, elapsed time: 384.559\n",
      "Imputing row 23101/41188 with 2 missing, elapsed time: 384.569\n",
      "Imputing row 23201/41188 with 0 missing, elapsed time: 384.582\n",
      "Imputing row 23301/41188 with 0 missing, elapsed time: 384.592\n",
      "Imputing row 23401/41188 with 1 missing, elapsed time: 384.601\n",
      "Imputing row 23501/41188 with 0 missing, elapsed time: 384.608\n",
      "Imputing row 23601/41188 with 0 missing, elapsed time: 384.619\n",
      "Imputing row 23701/41188 with 0 missing, elapsed time: 384.627\n",
      "Imputing row 23801/41188 with 1 missing, elapsed time: 384.632\n",
      "Imputing row 23901/41188 with 0 missing, elapsed time: 384.645\n",
      "Imputing row 24001/41188 with 2 missing, elapsed time: 384.655\n",
      "Imputing row 24101/41188 with 0 missing, elapsed time: 384.660\n",
      "Imputing row 24201/41188 with 1 missing, elapsed time: 384.667\n",
      "Imputing row 24301/41188 with 0 missing, elapsed time: 384.675\n",
      "Imputing row 24401/41188 with 1 missing, elapsed time: 384.681\n",
      "Imputing row 24501/41188 with 1 missing, elapsed time: 384.688\n",
      "Imputing row 24601/41188 with 2 missing, elapsed time: 384.697\n",
      "Imputing row 24701/41188 with 1 missing, elapsed time: 384.703\n",
      "Imputing row 24801/41188 with 0 missing, elapsed time: 384.714\n",
      "Imputing row 24901/41188 with 0 missing, elapsed time: 384.723\n",
      "Imputing row 25001/41188 with 0 missing, elapsed time: 384.728\n",
      "Imputing row 25101/41188 with 2 missing, elapsed time: 384.732\n",
      "Imputing row 25201/41188 with 0 missing, elapsed time: 384.746\n",
      "Imputing row 25301/41188 with 0 missing, elapsed time: 384.754\n",
      "Imputing row 25401/41188 with 0 missing, elapsed time: 384.762\n",
      "Imputing row 25501/41188 with 0 missing, elapsed time: 384.767\n",
      "Imputing row 25601/41188 with 0 missing, elapsed time: 384.770\n",
      "Imputing row 25701/41188 with 0 missing, elapsed time: 384.774\n",
      "Imputing row 25801/41188 with 1 missing, elapsed time: 384.778\n",
      "Imputing row 25901/41188 with 0 missing, elapsed time: 384.781\n",
      "Imputing row 26001/41188 with 0 missing, elapsed time: 384.783\n",
      "Imputing row 26101/41188 with 0 missing, elapsed time: 384.788\n",
      "Imputing row 26201/41188 with 0 missing, elapsed time: 384.794\n",
      "Imputing row 26301/41188 with 0 missing, elapsed time: 384.801\n",
      "Imputing row 26401/41188 with 0 missing, elapsed time: 384.805\n",
      "Imputing row 26501/41188 with 0 missing, elapsed time: 384.809\n",
      "Imputing row 26601/41188 with 0 missing, elapsed time: 384.814\n",
      "Imputing row 26701/41188 with 0 missing, elapsed time: 384.819\n",
      "Imputing row 26801/41188 with 0 missing, elapsed time: 384.825\n",
      "Imputing row 26901/41188 with 0 missing, elapsed time: 384.832\n",
      "Imputing row 27001/41188 with 0 missing, elapsed time: 384.836\n",
      "Imputing row 27101/41188 with 1 missing, elapsed time: 384.842\n",
      "Imputing row 27201/41188 with 0 missing, elapsed time: 384.848\n",
      "Imputing row 27301/41188 with 0 missing, elapsed time: 384.853\n",
      "Imputing row 27401/41188 with 1 missing, elapsed time: 384.861\n",
      "Imputing row 27501/41188 with 0 missing, elapsed time: 384.867\n",
      "Imputing row 27601/41188 with 0 missing, elapsed time: 384.872\n",
      "Imputing row 27701/41188 with 0 missing, elapsed time: 384.877\n",
      "Imputing row 27801/41188 with 0 missing, elapsed time: 384.880\n",
      "Imputing row 27901/41188 with 0 missing, elapsed time: 384.882\n",
      "Imputing row 28001/41188 with 0 missing, elapsed time: 384.888\n",
      "Imputing row 28101/41188 with 0 missing, elapsed time: 384.896\n",
      "Imputing row 28201/41188 with 0 missing, elapsed time: 384.901\n",
      "Imputing row 28301/41188 with 1 missing, elapsed time: 384.907\n",
      "Imputing row 28401/41188 with 0 missing, elapsed time: 384.914\n",
      "Imputing row 28501/41188 with 1 missing, elapsed time: 384.918\n",
      "Imputing row 28601/41188 with 0 missing, elapsed time: 384.921\n",
      "Imputing row 28701/41188 with 2 missing, elapsed time: 384.928\n",
      "Imputing row 28801/41188 with 0 missing, elapsed time: 384.937\n",
      "Imputing row 28901/41188 with 1 missing, elapsed time: 384.947\n",
      "Imputing row 29001/41188 with 0 missing, elapsed time: 384.956\n",
      "Imputing row 29101/41188 with 0 missing, elapsed time: 384.966\n",
      "Imputing row 29201/41188 with 1 missing, elapsed time: 384.974\n",
      "Imputing row 29301/41188 with 0 missing, elapsed time: 384.982\n",
      "Imputing row 29401/41188 with 1 missing, elapsed time: 384.989\n",
      "Imputing row 29501/41188 with 0 missing, elapsed time: 384.997\n",
      "Imputing row 29601/41188 with 0 missing, elapsed time: 385.004\n",
      "Imputing row 29701/41188 with 0 missing, elapsed time: 385.013\n",
      "Imputing row 29801/41188 with 0 missing, elapsed time: 385.021\n",
      "Imputing row 29901/41188 with 1 missing, elapsed time: 385.029\n",
      "Imputing row 30001/41188 with 0 missing, elapsed time: 385.036\n",
      "Imputing row 30101/41188 with 0 missing, elapsed time: 385.039\n",
      "Imputing row 30201/41188 with 2 missing, elapsed time: 385.042\n",
      "Imputing row 30301/41188 with 0 missing, elapsed time: 385.044\n",
      "Imputing row 30401/41188 with 0 missing, elapsed time: 385.048\n",
      "Imputing row 30501/41188 with 0 missing, elapsed time: 385.051\n",
      "Imputing row 30601/41188 with 0 missing, elapsed time: 385.056\n",
      "Imputing row 30701/41188 with 0 missing, elapsed time: 385.061\n",
      "Imputing row 30801/41188 with 1 missing, elapsed time: 385.071\n"
     ]
    },
    {
     "name": "stdout",
     "output_type": "stream",
     "text": [
      "Imputing row 30901/41188 with 0 missing, elapsed time: 385.079\n",
      "Imputing row 31001/41188 with 0 missing, elapsed time: 385.086\n",
      "Imputing row 31101/41188 with 0 missing, elapsed time: 385.092\n",
      "Imputing row 31201/41188 with 0 missing, elapsed time: 385.099\n",
      "Imputing row 31301/41188 with 0 missing, elapsed time: 385.109\n",
      "Imputing row 31401/41188 with 0 missing, elapsed time: 385.118\n",
      "Imputing row 31501/41188 with 1 missing, elapsed time: 385.126\n",
      "Imputing row 31601/41188 with 0 missing, elapsed time: 385.133\n",
      "Imputing row 31701/41188 with 0 missing, elapsed time: 385.140\n",
      "Imputing row 31801/41188 with 0 missing, elapsed time: 385.148\n",
      "Imputing row 31901/41188 with 0 missing, elapsed time: 385.156\n",
      "Imputing row 32001/41188 with 0 missing, elapsed time: 385.163\n",
      "Imputing row 32101/41188 with 0 missing, elapsed time: 385.173\n",
      "Imputing row 32201/41188 with 0 missing, elapsed time: 385.180\n",
      "Imputing row 32301/41188 with 0 missing, elapsed time: 385.188\n",
      "Imputing row 32401/41188 with 1 missing, elapsed time: 385.194\n",
      "Imputing row 32501/41188 with 0 missing, elapsed time: 385.203\n",
      "Imputing row 32601/41188 with 1 missing, elapsed time: 385.211\n",
      "Imputing row 32701/41188 with 0 missing, elapsed time: 385.215\n",
      "Imputing row 32801/41188 with 0 missing, elapsed time: 385.221\n",
      "Imputing row 32901/41188 with 1 missing, elapsed time: 385.229\n",
      "Imputing row 33001/41188 with 0 missing, elapsed time: 385.238\n",
      "Imputing row 33101/41188 with 0 missing, elapsed time: 385.249\n",
      "Imputing row 33201/41188 with 0 missing, elapsed time: 385.255\n",
      "Imputing row 33301/41188 with 0 missing, elapsed time: 385.261\n",
      "Imputing row 33401/41188 with 0 missing, elapsed time: 385.269\n",
      "Imputing row 33501/41188 with 0 missing, elapsed time: 385.276\n",
      "Imputing row 33601/41188 with 0 missing, elapsed time: 385.283\n",
      "Imputing row 33701/41188 with 0 missing, elapsed time: 385.291\n",
      "Imputing row 33801/41188 with 0 missing, elapsed time: 385.295\n",
      "Imputing row 33901/41188 with 0 missing, elapsed time: 385.303\n",
      "Imputing row 34001/41188 with 0 missing, elapsed time: 385.308\n",
      "Imputing row 34101/41188 with 0 missing, elapsed time: 385.313\n",
      "Imputing row 34201/41188 with 1 missing, elapsed time: 385.319\n",
      "Imputing row 34301/41188 with 0 missing, elapsed time: 385.326\n",
      "Imputing row 34401/41188 with 1 missing, elapsed time: 385.332\n",
      "Imputing row 34501/41188 with 0 missing, elapsed time: 385.337\n",
      "Imputing row 34601/41188 with 0 missing, elapsed time: 385.343\n",
      "Imputing row 34701/41188 with 0 missing, elapsed time: 385.350\n",
      "Imputing row 34801/41188 with 0 missing, elapsed time: 385.356\n",
      "Imputing row 34901/41188 with 1 missing, elapsed time: 385.364\n",
      "Imputing row 35001/41188 with 0 missing, elapsed time: 385.372\n",
      "Imputing row 35101/41188 with 1 missing, elapsed time: 385.381\n",
      "Imputing row 35201/41188 with 0 missing, elapsed time: 385.389\n",
      "Imputing row 35301/41188 with 1 missing, elapsed time: 385.395\n",
      "Imputing row 35401/41188 with 0 missing, elapsed time: 385.399\n",
      "Imputing row 35501/41188 with 0 missing, elapsed time: 385.406\n",
      "Imputing row 35601/41188 with 0 missing, elapsed time: 385.411\n",
      "Imputing row 35701/41188 with 0 missing, elapsed time: 385.415\n",
      "Imputing row 35801/41188 with 1 missing, elapsed time: 385.421\n",
      "Imputing row 35901/41188 with 0 missing, elapsed time: 385.426\n",
      "Imputing row 36001/41188 with 0 missing, elapsed time: 385.428\n",
      "Imputing row 36101/41188 with 0 missing, elapsed time: 385.430\n",
      "Imputing row 36201/41188 with 0 missing, elapsed time: 385.433\n",
      "Imputing row 36301/41188 with 0 missing, elapsed time: 385.437\n",
      "Imputing row 36401/41188 with 0 missing, elapsed time: 385.444\n",
      "Imputing row 36501/41188 with 0 missing, elapsed time: 385.449\n",
      "Imputing row 36601/41188 with 0 missing, elapsed time: 385.453\n",
      "Imputing row 36701/41188 with 0 missing, elapsed time: 385.458\n",
      "Imputing row 36801/41188 with 0 missing, elapsed time: 385.464\n",
      "Imputing row 36901/41188 with 0 missing, elapsed time: 385.467\n",
      "Imputing row 37001/41188 with 0 missing, elapsed time: 385.470\n",
      "Imputing row 37101/41188 with 0 missing, elapsed time: 385.476\n",
      "Imputing row 37201/41188 with 0 missing, elapsed time: 385.481\n",
      "Imputing row 37301/41188 with 0 missing, elapsed time: 385.485\n",
      "Imputing row 37401/41188 with 0 missing, elapsed time: 385.489\n",
      "Imputing row 37501/41188 with 0 missing, elapsed time: 385.494\n",
      "Imputing row 37601/41188 with 0 missing, elapsed time: 385.497\n",
      "Imputing row 37701/41188 with 0 missing, elapsed time: 385.501\n",
      "Imputing row 37801/41188 with 0 missing, elapsed time: 385.507\n",
      "Imputing row 37901/41188 with 0 missing, elapsed time: 385.515\n",
      "Imputing row 38001/41188 with 0 missing, elapsed time: 385.521\n",
      "Imputing row 38101/41188 with 0 missing, elapsed time: 385.527\n",
      "Imputing row 38201/41188 with 0 missing, elapsed time: 385.530\n",
      "Imputing row 38301/41188 with 0 missing, elapsed time: 385.536\n",
      "Imputing row 38401/41188 with 0 missing, elapsed time: 385.540\n",
      "Imputing row 38501/41188 with 0 missing, elapsed time: 385.544\n",
      "Imputing row 38601/41188 with 0 missing, elapsed time: 385.547\n",
      "Imputing row 38701/41188 with 3 missing, elapsed time: 385.550\n",
      "Imputing row 38801/41188 with 0 missing, elapsed time: 385.554\n",
      "Imputing row 38901/41188 with 0 missing, elapsed time: 385.559\n",
      "Imputing row 39001/41188 with 0 missing, elapsed time: 385.563\n",
      "Imputing row 39101/41188 with 0 missing, elapsed time: 385.569\n",
      "Imputing row 39201/41188 with 0 missing, elapsed time: 385.572\n",
      "Imputing row 39301/41188 with 0 missing, elapsed time: 385.576\n",
      "Imputing row 39401/41188 with 0 missing, elapsed time: 385.586\n",
      "Imputing row 39501/41188 with 0 missing, elapsed time: 385.590\n",
      "Imputing row 39601/41188 with 0 missing, elapsed time: 385.596\n",
      "Imputing row 39701/41188 with 1 missing, elapsed time: 385.601\n",
      "Imputing row 39801/41188 with 0 missing, elapsed time: 385.608\n",
      "Imputing row 39901/41188 with 0 missing, elapsed time: 385.611\n",
      "Imputing row 40001/41188 with 0 missing, elapsed time: 385.613\n",
      "Imputing row 40101/41188 with 1 missing, elapsed time: 385.618\n",
      "Imputing row 40201/41188 with 0 missing, elapsed time: 385.622\n",
      "Imputing row 40301/41188 with 0 missing, elapsed time: 385.626\n",
      "Imputing row 40401/41188 with 0 missing, elapsed time: 385.632\n",
      "Imputing row 40501/41188 with 0 missing, elapsed time: 385.637\n",
      "Imputing row 40601/41188 with 0 missing, elapsed time: 385.641\n",
      "Imputing row 40701/41188 with 0 missing, elapsed time: 385.648\n",
      "Imputing row 40801/41188 with 1 missing, elapsed time: 385.654\n",
      "Imputing row 40901/41188 with 0 missing, elapsed time: 385.658\n",
      "Imputing row 41001/41188 with 0 missing, elapsed time: 385.662\n",
      "Imputing row 41101/41188 with 0 missing, elapsed time: 385.665\n"
     ]
    }
   ],
   "source": [
    "KNN_Imputer = KNN()\n",
    "\n",
    "bank_data_imp = coded_bank_data.copy(deep=True)\n",
    "\n",
    "bank_data_imp.iloc[:,:] = np.round(KNN_Imputer.fit_transform(bank_data_imp))\n",
    "\n",
    "for col in col_names:\n",
    "\n",
    "  reshaped_col = bank_data_imp[col].values.reshape(-1, 1)\n",
    "  bank_data_imp[col] = ordinal_enc_dict[col].inverse_transform(reshaped_col) "
   ]
  },
  {
   "cell_type": "markdown",
   "metadata": {
    "id": "Rw9tyL1Sx8pS"
   },
   "source": [
    "#### Compare the two imputed files: KNN and MICE"
   ]
  },
  {
   "cell_type": "code",
   "execution_count": 22,
   "metadata": {
    "colab": {
     "base_uri": "https://localhost:8080/"
    },
    "id": "aahvI_yxx8GS",
    "outputId": "a7408b01-568e-44bc-dfec-8b45aa23f0d4"
   },
   "outputs": [
    {
     "ename": "NameError",
     "evalue": "name 'bank_knn' is not defined",
     "output_type": "error",
     "traceback": [
      "\u001b[0;31m---------------------------------------------------------------------------\u001b[0m",
      "\u001b[0;31mNameError\u001b[0m                                 Traceback (most recent call last)",
      "\u001b[0;32m<ipython-input-22-741ae53d55f7>\u001b[0m in \u001b[0;36m<module>\u001b[0;34m\u001b[0m\n\u001b[0;32m----> 1\u001b[0;31m \u001b[0mbank_knn\u001b[0m\u001b[0;34m.\u001b[0m\u001b[0mequals\u001b[0m\u001b[0;34m(\u001b[0m\u001b[0mbank_mice\u001b[0m\u001b[0;34m)\u001b[0m\u001b[0;34m\u001b[0m\u001b[0;34m\u001b[0m\u001b[0m\n\u001b[0m",
      "\u001b[0;31mNameError\u001b[0m: name 'bank_knn' is not defined"
     ]
    }
   ],
   "source": [
    "bank_knn.equals(bank_mice)"
   ]
  },
  {
   "cell_type": "code",
   "execution_count": 23,
   "metadata": {
    "id": "3gvWKCyCABjw"
   },
   "outputs": [
    {
     "ename": "NameError",
     "evalue": "name 'bank_knn' is not defined",
     "output_type": "error",
     "traceback": [
      "\u001b[0;31m---------------------------------------------------------------------------\u001b[0m",
      "\u001b[0;31mNameError\u001b[0m                                 Traceback (most recent call last)",
      "\u001b[0;32m<ipython-input-23-71df03983021>\u001b[0m in \u001b[0;36m<module>\u001b[0;34m\u001b[0m\n\u001b[0;32m----> 1\u001b[0;31m \u001b[0mdf_diff\u001b[0m \u001b[0;34m=\u001b[0m \u001b[0mbank_knn\u001b[0m\u001b[0;34m.\u001b[0m\u001b[0meq\u001b[0m\u001b[0;34m(\u001b[0m\u001b[0mbank_mice\u001b[0m\u001b[0;34m)\u001b[0m\u001b[0;34m\u001b[0m\u001b[0;34m\u001b[0m\u001b[0m\n\u001b[0m",
      "\u001b[0;31mNameError\u001b[0m: name 'bank_knn' is not defined"
     ]
    }
   ],
   "source": [
    "df_diff = bank_knn.eq(bank_mice)"
   ]
  },
  {
   "cell_type": "code",
   "execution_count": 24,
   "metadata": {
    "colab": {
     "base_uri": "https://localhost:8080/"
    },
    "id": "udoq3xV9AckY",
    "outputId": "0239eba8-48eb-4cc8-87c0-ca3ca358ad90"
   },
   "outputs": [
    {
     "ename": "NameError",
     "evalue": "name 'df_diff' is not defined",
     "output_type": "error",
     "traceback": [
      "\u001b[0;31m---------------------------------------------------------------------------\u001b[0m",
      "\u001b[0;31mNameError\u001b[0m                                 Traceback (most recent call last)",
      "\u001b[0;32m<ipython-input-24-19e56059bbaa>\u001b[0m in \u001b[0;36m<module>\u001b[0;34m\u001b[0m\n\u001b[0;32m----> 1\u001b[0;31m \u001b[0mcols\u001b[0m \u001b[0;34m=\u001b[0m \u001b[0;34m[\u001b[0m\u001b[0mx\u001b[0m \u001b[0;32mfor\u001b[0m \u001b[0mx\u001b[0m \u001b[0;32min\u001b[0m \u001b[0mdf_diff\u001b[0m\u001b[0;34m.\u001b[0m\u001b[0mcolumns\u001b[0m\u001b[0;34m]\u001b[0m\u001b[0;34m\u001b[0m\u001b[0;34m\u001b[0m\u001b[0m\n\u001b[0m\u001b[1;32m      2\u001b[0m \u001b[0mdf_diff\u001b[0m\u001b[0;34m[\u001b[0m\u001b[0;34m\"contains_difference\"\u001b[0m\u001b[0;34m]\u001b[0m \u001b[0;34m=\u001b[0m \u001b[0;34m(\u001b[0m\u001b[0mdf_diff\u001b[0m\u001b[0;34m[\u001b[0m\u001b[0mcols\u001b[0m\u001b[0;34m]\u001b[0m\u001b[0;34m==\u001b[0m\u001b[0;32mFalse\u001b[0m\u001b[0;34m)\u001b[0m\u001b[0;34m.\u001b[0m\u001b[0many\u001b[0m\u001b[0;34m(\u001b[0m\u001b[0maxis\u001b[0m\u001b[0;34m=\u001b[0m\u001b[0;34m\"columns\"\u001b[0m\u001b[0;34m)\u001b[0m\u001b[0;34m\u001b[0m\u001b[0;34m\u001b[0m\u001b[0m\n\u001b[1;32m      3\u001b[0m \u001b[0mdf_diff\u001b[0m\u001b[0;34m[\u001b[0m\u001b[0;34m\"contains_difference\"\u001b[0m\u001b[0;34m]\u001b[0m\u001b[0;34m.\u001b[0m\u001b[0mvalue_counts\u001b[0m\u001b[0;34m(\u001b[0m\u001b[0;34m)\u001b[0m\u001b[0;34m\u001b[0m\u001b[0;34m\u001b[0m\u001b[0m\n",
      "\u001b[0;31mNameError\u001b[0m: name 'df_diff' is not defined"
     ]
    }
   ],
   "source": [
    "cols = [x for x in df_diff.columns]\n",
    "df_diff[\"contains_difference\"] = (df_diff[cols]==False).any(axis=\"columns\")\n",
    "df_diff[\"contains_difference\"].value_counts()"
   ]
  },
  {
   "cell_type": "markdown",
   "metadata": {
    "id": "o4Tt9K9kCUTP"
   },
   "source": [
    "#### Binning Duration:\n"
   ]
  },
  {
   "cell_type": "code",
   "execution_count": 25,
   "metadata": {
    "colab": {
     "base_uri": "https://localhost:8080/"
    },
    "id": "S5GCvCrYA--y",
    "outputId": "9d04d4d1-18c8-4f17-e92f-9a206c3066ac"
   },
   "outputs": [
    {
     "ename": "NameError",
     "evalue": "name 'bank_raw' is not defined",
     "output_type": "error",
     "traceback": [
      "\u001b[0;31m---------------------------------------------------------------------------\u001b[0m",
      "\u001b[0;31mNameError\u001b[0m                                 Traceback (most recent call last)",
      "\u001b[0;32m<ipython-input-25-d6127b83d4bc>\u001b[0m in \u001b[0;36m<module>\u001b[0;34m\u001b[0m\n\u001b[0;32m----> 1\u001b[0;31m \u001b[0mbank_bin_dur\u001b[0m \u001b[0;34m=\u001b[0m \u001b[0mbank_raw\u001b[0m\u001b[0;34m.\u001b[0m\u001b[0mcopy\u001b[0m\u001b[0;34m(\u001b[0m\u001b[0;34m)\u001b[0m\u001b[0;34m\u001b[0m\u001b[0;34m\u001b[0m\u001b[0m\n\u001b[0m\u001b[1;32m      2\u001b[0m \u001b[0msns\u001b[0m\u001b[0;34m.\u001b[0m\u001b[0mcatplot\u001b[0m\u001b[0;34m(\u001b[0m\u001b[0my\u001b[0m\u001b[0;34m=\u001b[0m\u001b[0;34m\"duration\"\u001b[0m\u001b[0;34m,\u001b[0m \u001b[0mx\u001b[0m\u001b[0;34m=\u001b[0m\u001b[0;34m\"y\"\u001b[0m\u001b[0;34m,\u001b[0m \u001b[0mkind\u001b[0m\u001b[0;34m=\u001b[0m\u001b[0;34m\"box\"\u001b[0m\u001b[0;34m,\u001b[0m \u001b[0mpalette\u001b[0m\u001b[0;34m=\u001b[0m\u001b[0;34m\"pastel\"\u001b[0m\u001b[0;34m,\u001b[0m \u001b[0mdata\u001b[0m\u001b[0;34m=\u001b[0m\u001b[0mbank_bin_dur\u001b[0m\u001b[0;34m)\u001b[0m\u001b[0;34m\u001b[0m\u001b[0;34m\u001b[0m\u001b[0m\n",
      "\u001b[0;31mNameError\u001b[0m: name 'bank_raw' is not defined"
     ]
    }
   ],
   "source": [
    "bank_bin_dur = bank_raw.copy()\n",
    "sns.catplot(y=\"duration\", x=\"y\", kind=\"box\", palette=\"pastel\", data=bank_bin_dur)"
   ]
  },
  {
   "cell_type": "code",
   "execution_count": 26,
   "metadata": {
    "colab": {
     "base_uri": "https://localhost:8080/"
    },
    "id": "wHMJs04aJZYm",
    "outputId": "37827731-dec1-415a-f263-8a4602159a91"
   },
   "outputs": [
    {
     "ename": "NameError",
     "evalue": "name 'bank_bin_dur' is not defined",
     "output_type": "error",
     "traceback": [
      "\u001b[0;31m---------------------------------------------------------------------------\u001b[0m",
      "\u001b[0;31mNameError\u001b[0m                                 Traceback (most recent call last)",
      "\u001b[0;32m<ipython-input-26-52ce4bcd5bb1>\u001b[0m in \u001b[0;36m<module>\u001b[0;34m\u001b[0m\n\u001b[1;32m      1\u001b[0m \u001b[0;31m# remove some of the outliers\u001b[0m\u001b[0;34m\u001b[0m\u001b[0;34m\u001b[0m\u001b[0;34m\u001b[0m\u001b[0m\n\u001b[0;32m----> 2\u001b[0;31m \u001b[0mq\u001b[0m \u001b[0;34m=\u001b[0m \u001b[0mbank_bin_dur\u001b[0m\u001b[0;34m[\u001b[0m\u001b[0;34m\"duration\"\u001b[0m\u001b[0;34m]\u001b[0m\u001b[0;34m.\u001b[0m\u001b[0mquantile\u001b[0m\u001b[0;34m(\u001b[0m\u001b[0;36m0.995\u001b[0m\u001b[0;34m)\u001b[0m\u001b[0;34m\u001b[0m\u001b[0;34m\u001b[0m\u001b[0m\n\u001b[0m\u001b[1;32m      3\u001b[0m \u001b[0mbank_bin_dur\u001b[0m \u001b[0;34m=\u001b[0m  \u001b[0mbank_bin_dur\u001b[0m\u001b[0;34m[\u001b[0m\u001b[0mbank_bin_dur\u001b[0m\u001b[0;34m[\u001b[0m\u001b[0;34m\"duration\"\u001b[0m\u001b[0;34m]\u001b[0m \u001b[0;34m<=\u001b[0m \u001b[0mq\u001b[0m\u001b[0;34m]\u001b[0m\u001b[0;34m\u001b[0m\u001b[0;34m\u001b[0m\u001b[0m\n\u001b[1;32m      4\u001b[0m \u001b[0mprint\u001b[0m\u001b[0;34m(\u001b[0m\u001b[0mlen\u001b[0m\u001b[0;34m(\u001b[0m\u001b[0mbank_raw\u001b[0m\u001b[0;34m)\u001b[0m\u001b[0;34m)\u001b[0m\u001b[0;34m\u001b[0m\u001b[0;34m\u001b[0m\u001b[0m\n\u001b[1;32m      5\u001b[0m \u001b[0mprint\u001b[0m\u001b[0;34m(\u001b[0m\u001b[0mlen\u001b[0m\u001b[0;34m(\u001b[0m\u001b[0mbank_bin_dur\u001b[0m\u001b[0;34m)\u001b[0m\u001b[0;34m)\u001b[0m\u001b[0;34m\u001b[0m\u001b[0;34m\u001b[0m\u001b[0m\n",
      "\u001b[0;31mNameError\u001b[0m: name 'bank_bin_dur' is not defined"
     ]
    }
   ],
   "source": [
    "# remove some of the outliers\n",
    "q = bank_bin_dur[\"duration\"].quantile(0.995)\n",
    "bank_bin_dur =  bank_bin_dur[bank_bin_dur[\"duration\"] <= q]\n",
    "print(len(bank_raw))\n",
    "print(len(bank_bin_dur))\n",
    "sns.catplot(y=\"duration\", x=\"y\", kind=\"box\", palette=\"pastel\", data=bank_bin_dur)"
   ]
  },
  {
   "cell_type": "code",
   "execution_count": null,
   "metadata": {
    "colab": {
     "base_uri": "https://localhost:8080/"
    },
    "id": "QaHuWQYvD2ac",
    "outputId": "f54d2f5f-8fad-4822-880d-a70c4473d445"
   },
   "outputs": [],
   "source": [
    "# Equi-Height Bins: create bins having equal height and varied range. This one works in deciles\n",
    "\n",
    "# bin_labels = [0,1,2,3,4,5,6,7,8,9]\n",
    "# bank_bin_dur[\"eqht_dur_10\"] = pd.qcut(bank_bin_dur['duration'], q=10, labels=bin_labels, precision=0)b"
   ]
  },
  {
   "cell_type": "code",
   "execution_count": 27,
   "metadata": {
    "colab": {
     "base_uri": "https://localhost:8080/"
    },
    "id": "-YK4BVBcTzUh",
    "outputId": "752ee2b1-7a0a-4dbd-d7fb-6c0e7e21f3b9"
   },
   "outputs": [
    {
     "ename": "NameError",
     "evalue": "name 'bank_bin_dur' is not defined",
     "output_type": "error",
     "traceback": [
      "\u001b[0;31m---------------------------------------------------------------------------\u001b[0m",
      "\u001b[0;31mNameError\u001b[0m                                 Traceback (most recent call last)",
      "\u001b[0;32m<ipython-input-27-322e920f99e4>\u001b[0m in \u001b[0;36m<module>\u001b[0;34m\u001b[0m\n\u001b[1;32m      2\u001b[0m \u001b[0mcut_labels_4\u001b[0m \u001b[0;34m=\u001b[0m \u001b[0;34m[\u001b[0m\u001b[0;34m'less than 200'\u001b[0m\u001b[0;34m,\u001b[0m \u001b[0;34m'200 - 400'\u001b[0m\u001b[0;34m,\u001b[0m \u001b[0;34m'400 - 800'\u001b[0m\u001b[0;34m,\u001b[0m \u001b[0;34m'more than 800'\u001b[0m\u001b[0;34m]\u001b[0m\u001b[0;34m\u001b[0m\u001b[0;34m\u001b[0m\u001b[0m\n\u001b[1;32m      3\u001b[0m \u001b[0mcut_bins\u001b[0m \u001b[0;34m=\u001b[0m \u001b[0;34m[\u001b[0m\u001b[0;36m0\u001b[0m\u001b[0;34m,\u001b[0m \u001b[0;36m200\u001b[0m\u001b[0;34m,\u001b[0m \u001b[0;36m400\u001b[0m\u001b[0;34m,\u001b[0m \u001b[0;36m800\u001b[0m\u001b[0;34m,\u001b[0m \u001b[0;36m200000\u001b[0m\u001b[0;34m]\u001b[0m\u001b[0;34m\u001b[0m\u001b[0;34m\u001b[0m\u001b[0m\n\u001b[0;32m----> 4\u001b[0;31m \u001b[0mbank_bin_dur\u001b[0m\u001b[0;34m[\u001b[0m\u001b[0;34m\"eqwd_dur_4\"\u001b[0m\u001b[0;34m]\u001b[0m \u001b[0;34m=\u001b[0m \u001b[0mpd\u001b[0m\u001b[0;34m.\u001b[0m\u001b[0mcut\u001b[0m\u001b[0;34m(\u001b[0m\u001b[0mbank_bin_dur\u001b[0m\u001b[0;34m[\u001b[0m\u001b[0;34m'duration'\u001b[0m\u001b[0;34m]\u001b[0m\u001b[0;34m,\u001b[0m \u001b[0mbins\u001b[0m\u001b[0;34m=\u001b[0m\u001b[0mcut_bins\u001b[0m\u001b[0;34m,\u001b[0m \u001b[0mlabels\u001b[0m\u001b[0;34m=\u001b[0m\u001b[0mcut_labels_4\u001b[0m\u001b[0;34m)\u001b[0m\u001b[0;34m\u001b[0m\u001b[0;34m\u001b[0m\u001b[0m\n\u001b[0m",
      "\u001b[0;31mNameError\u001b[0m: name 'bank_bin_dur' is not defined"
     ]
    }
   ],
   "source": [
    "# Custom Bins: define your own bins! Preferred method\n",
    "cut_labels_4 = ['less than 200', '200 - 400', '400 - 800', 'more than 800']\n",
    "cut_bins = [0, 200, 400, 800, 200000]\n",
    "bank_bin_dur[\"eqwd_dur_4\"] = pd.cut(bank_bin_dur['duration'], bins=cut_bins, labels=cut_labels_4)"
   ]
  },
  {
   "cell_type": "code",
   "execution_count": 28,
   "metadata": {
    "colab": {
     "base_uri": "https://localhost:8080/"
    },
    "id": "8dZbl8nqILcp",
    "outputId": "ac78c3a4-767a-413d-dad5-5fd7b3ea4c36"
   },
   "outputs": [
    {
     "ename": "NameError",
     "evalue": "name 'bank_bin_dur' is not defined",
     "output_type": "error",
     "traceback": [
      "\u001b[0;31m---------------------------------------------------------------------------\u001b[0m",
      "\u001b[0;31mNameError\u001b[0m                                 Traceback (most recent call last)",
      "\u001b[0;32m<ipython-input-28-e58fce83a233>\u001b[0m in \u001b[0;36m<module>\u001b[0;34m\u001b[0m\n\u001b[0;32m----> 1\u001b[0;31m \u001b[0mbank_bin_dur\u001b[0m\u001b[0;34m.\u001b[0m\u001b[0mhead\u001b[0m\u001b[0;34m(\u001b[0m\u001b[0;34m)\u001b[0m\u001b[0;34m\u001b[0m\u001b[0;34m\u001b[0m\u001b[0m\n\u001b[0m",
      "\u001b[0;31mNameError\u001b[0m: name 'bank_bin_dur' is not defined"
     ]
    }
   ],
   "source": [
    "bank_bin_dur.head()"
   ]
  },
  {
   "cell_type": "markdown",
   "metadata": {
    "id": "1NlM0UvkD2kv"
   },
   "source": [
    "#### Define Feature Embedding for Campaign History using Autoencoders: (Discontinued for now)\n",
    "\n",
    "For the 4 features within the Campaign History, we believe there is a lot of redundancy and thus in order to simlify and condense the information, we suggest using an autoencoder to extract the useful information from these set of features and make a new feature representation which would preserve the information and avoid redundancy. \n",
    "\n",
    "The four features are: \n",
    "\n",
    "- number of contacts made in this campaign: numeric\n",
    "- number of days between last contact and current contact: numeric\n",
    "- number of contacts made before this campaign:  numeric\n",
    "- Outcome of the previous campaign: categorical\n",
    "\n",
    "We want to embed this information. Consider PCA and vanilla autoencoders."
   ]
  },
  {
   "cell_type": "code",
   "execution_count": 29,
   "metadata": {
    "colab": {
     "base_uri": "https://localhost:8080/",
     "height": 204
    },
    "id": "0wBZIQXkMGHB",
    "outputId": "c854855e-a0c4-49a5-a100-819769c67e83"
   },
   "outputs": [
    {
     "ename": "NameError",
     "evalue": "name 'bank_mice' is not defined",
     "output_type": "error",
     "traceback": [
      "\u001b[0;31m---------------------------------------------------------------------------\u001b[0m",
      "\u001b[0;31mNameError\u001b[0m                                 Traceback (most recent call last)",
      "\u001b[0;32m<ipython-input-29-7fa2df61823a>\u001b[0m in \u001b[0;36m<module>\u001b[0;34m\u001b[0m\n\u001b[0;32m----> 1\u001b[0;31m \u001b[0mbank_mice\u001b[0m\u001b[0;34m.\u001b[0m\u001b[0mhead\u001b[0m\u001b[0;34m(\u001b[0m\u001b[0;34m)\u001b[0m\u001b[0;34m\u001b[0m\u001b[0;34m\u001b[0m\u001b[0m\n\u001b[0m",
      "\u001b[0;31mNameError\u001b[0m: name 'bank_mice' is not defined"
     ]
    }
   ],
   "source": [
    "bank_mice.head()"
   ]
  },
  {
   "cell_type": "code",
   "execution_count": 30,
   "metadata": {
    "id": "DeTqVsQtzVyC"
   },
   "outputs": [
    {
     "ename": "ModuleNotFoundError",
     "evalue": "No module named 'torch'",
     "output_type": "error",
     "traceback": [
      "\u001b[0;31m---------------------------------------------------------------------------\u001b[0m",
      "\u001b[0;31mModuleNotFoundError\u001b[0m                       Traceback (most recent call last)",
      "\u001b[0;32m<ipython-input-30-092c38d0a31d>\u001b[0m in \u001b[0;36m<module>\u001b[0;34m\u001b[0m\n\u001b[1;32m      1\u001b[0m \u001b[0;31m# import required libraries\u001b[0m\u001b[0;34m\u001b[0m\u001b[0;34m\u001b[0m\u001b[0;34m\u001b[0m\u001b[0m\n\u001b[0;32m----> 2\u001b[0;31m \u001b[0;32mimport\u001b[0m \u001b[0mtorch\u001b[0m\u001b[0;34m\u001b[0m\u001b[0;34m\u001b[0m\u001b[0m\n\u001b[0m\u001b[1;32m      3\u001b[0m \u001b[0;32mimport\u001b[0m \u001b[0mtorch\u001b[0m\u001b[0;34m.\u001b[0m\u001b[0mnn\u001b[0m \u001b[0;32mas\u001b[0m \u001b[0mnn\u001b[0m\u001b[0;34m\u001b[0m\u001b[0;34m\u001b[0m\u001b[0m\n\u001b[1;32m      4\u001b[0m \u001b[0;32mimport\u001b[0m \u001b[0mtorch\u001b[0m\u001b[0;34m.\u001b[0m\u001b[0mnn\u001b[0m\u001b[0;34m.\u001b[0m\u001b[0mfunctional\u001b[0m \u001b[0;32mas\u001b[0m \u001b[0mF\u001b[0m\u001b[0;34m\u001b[0m\u001b[0;34m\u001b[0m\u001b[0m\n\u001b[1;32m      5\u001b[0m \u001b[0;32mfrom\u001b[0m \u001b[0mtorch\u001b[0m \u001b[0;32mimport\u001b[0m \u001b[0mnn\u001b[0m\u001b[0;34m,\u001b[0m \u001b[0moptim\u001b[0m\u001b[0;34m\u001b[0m\u001b[0;34m\u001b[0m\u001b[0m\n",
      "\u001b[0;31mModuleNotFoundError\u001b[0m: No module named 'torch'"
     ]
    }
   ],
   "source": [
    "# import required libraries\n",
    "import torch\n",
    "import torch.nn as nn\n",
    "import torch.nn.functional as F\n",
    "from torch import nn, optim\n",
    "from torch.autograd import Variable\n",
    "\n",
    "from sklearn import preprocessing"
   ]
  },
  {
   "cell_type": "code",
   "execution_count": null,
   "metadata": {
    "id": "KXUEumM5EMjP"
   },
   "outputs": [],
   "source": [
    "def load_data(data):\n",
    "  '''\n",
    "  TODO: subset data to the four columns. \n",
    "        Convert 999 to -99? \n",
    "        labelEncode Outcome\n",
    "        Standarize the other variables?\n",
    "  '''\n",
    "  camp_history = data[\"campaign\", \"pdays\", \"previous\", \"poutcome\"]\n",
    "  camp_history[\"pdays\"].replace({999: -99}, inplace=True)\n",
    "  \n",
    "\n",
    "  return None"
   ]
  },
  {
   "cell_type": "code",
   "execution_count": null,
   "metadata": {
    "id": "oej9CY7XJ4yI"
   },
   "outputs": [],
   "source": [
    "def numpyToTensor(x):\n",
    "    x_train = torch.from_numpy(x).to(device)\n",
    "    return x_train"
   ]
  },
  {
   "cell_type": "code",
   "execution_count": null,
   "metadata": {
    "id": "ySuRt0CTKmBh"
   },
   "outputs": [],
   "source": [
    "test_data = bank_mice.copy()"
   ]
  },
  {
   "cell_type": "code",
   "execution_count": null,
   "metadata": {
    "id": "Ciy7wAlFMvi5"
   },
   "outputs": [],
   "source": [
    "test_data[\"pdays\"].replace({999: np.nan}, inplace=True)"
   ]
  },
  {
   "cell_type": "code",
   "execution_count": null,
   "metadata": {
    "colab": {
     "base_uri": "https://localhost:8080/"
    },
    "id": "wUIQJo45M43n",
    "outputId": "d8a4d3de-8f9c-424e-ee36-c6507354d7ed"
   },
   "outputs": [],
   "source": [
    "test_data[\"pdays\"]"
   ]
  },
  {
   "cell_type": "code",
   "execution_count": null,
   "metadata": {
    "id": "sXMucA6cNLl6"
   },
   "outputs": [],
   "source": [
    "from sklearn.preprocessing import StandardScaler"
   ]
  },
  {
   "cell_type": "code",
   "execution_count": null,
   "metadata": {
    "colab": {
     "base_uri": "https://localhost:8080/"
    },
    "id": "niSyOQKUdtDQ",
    "outputId": "d7fda4a0-9528-4e99-a429-11c49f8ce399"
   },
   "outputs": [],
   "source": [
    "scaler1 = StandardScaler()\n",
    "\n",
    "x1 = test_data[\"pdays\"].values.reshape(test_data[\"pdays\"].shape[0],1).astype('float32')\n",
    "scaler1.fit(x1)\n",
    "scaler1.transform(x1)\n",
    "np.std(scaler1.transform(x1))"
   ]
  },
  {
   "cell_type": "code",
   "execution_count": null,
   "metadata": {
    "colab": {
     "base_uri": "https://localhost:8080/"
    },
    "id": "O9rBY1R9iMEw",
    "outputId": "704b5507-651c-47d5-aeae-9b8a7b2988f5"
   },
   "outputs": [],
   "source": [
    "scaler1.mean_"
   ]
  },
  {
   "cell_type": "code",
   "execution_count": null,
   "metadata": {
    "colab": {
     "base_uri": "https://localhost:8080/"
    },
    "id": "TrE_KMo6d0gL",
    "outputId": "fcecc12b-4939-4e77-a989-8301cdf2366a"
   },
   "outputs": [],
   "source": [
    "scaler2 = StandardScaler()\n",
    "\n",
    "x2 = test_data[\"campaign\"].values.reshape(test_data[\"campaign\"].shape[0],1).astype('float32')\n",
    "scaler2.fit(x2)\n",
    "scaler2.mean_\n",
    "scaler2.transform(x2)"
   ]
  },
  {
   "cell_type": "code",
   "execution_count": null,
   "metadata": {
    "colab": {
     "base_uri": "https://localhost:8080/"
    },
    "id": "VVpDZD5Lexhz",
    "outputId": "01a0fc23-0a96-457f-eaee-17e255c085f7"
   },
   "outputs": [],
   "source": [
    "scaler2.mean_"
   ]
  },
  {
   "cell_type": "code",
   "execution_count": null,
   "metadata": {
    "colab": {
     "base_uri": "https://localhost:8080/"
    },
    "id": "rtKUHNBnfV8C",
    "outputId": "f22b784f-3b5a-4f6d-9f47-a858c01c0b61"
   },
   "outputs": [],
   "source": [
    "scaler3 = StandardScaler()\n",
    "\n",
    "x3 = test_data[\"previous\"].values.reshape(test_data[\"previous\"].shape[0],1).astype('float32')\n",
    "scaler3.fit(x3)\n",
    "scaler3.transform(x3)"
   ]
  },
  {
   "cell_type": "code",
   "execution_count": null,
   "metadata": {
    "colab": {
     "base_uri": "https://localhost:8080/"
    },
    "id": "aw59-l-Efyei",
    "outputId": "73c0c860-7869-4031-cd79-604d333643ed"
   },
   "outputs": [],
   "source": [
    "scaler3.mean_"
   ]
  },
  {
   "cell_type": "code",
   "execution_count": null,
   "metadata": {
    "id": "J3v9m66EgB9Q"
   },
   "outputs": [],
   "source": [
    "from sklearn.preprocessing import OneHotEncoder"
   ]
  },
  {
   "cell_type": "code",
   "execution_count": null,
   "metadata": {
    "colab": {
     "base_uri": "https://localhost:8080/"
    },
    "id": "w1nudeXFjBvz",
    "outputId": "3b61a0e8-95ec-42e7-e1ab-1e3ec71e185d"
   },
   "outputs": [],
   "source": [
    "outcome = test_data[\"poutcome\"].values.reshape(test_data[\"poutcome\"].shape[0],1)\n",
    "enc = OneHotEncoder()\n",
    "enc.fit(outcome)\n",
    "enc_outcome = enc.transform(outcome).toarray()"
   ]
  },
  {
   "cell_type": "code",
   "execution_count": null,
   "metadata": {
    "colab": {
     "base_uri": "https://localhost:8080/"
    },
    "id": "n4LAP5CKjSgj",
    "outputId": "19e862ff-f675-4d14-98e7-1f85d5337a05"
   },
   "outputs": [],
   "source": [
    "enc.categories_"
   ]
  },
  {
   "cell_type": "code",
   "execution_count": null,
   "metadata": {
    "colab": {
     "base_uri": "https://localhost:8080/"
    },
    "id": "0-_WG8WGjdED",
    "outputId": "9e949730-fd39-4374-ebcb-16894f9747c7"
   },
   "outputs": [],
   "source": [
    "enc_outcome"
   ]
  },
  {
   "cell_type": "code",
   "execution_count": null,
   "metadata": {
    "id": "AzpGKsBUjok_"
   },
   "outputs": [],
   "source": []
  },
  {
   "cell_type": "markdown",
   "metadata": {
    "id": "hthQDFBcjvc_"
   },
   "source": [
    "#### Cleaning Pipeline:\n",
    "\n",
    "1. Imputation\n",
    "2. Duplicate removal\n",
    "3. Duration Binning and Outlier Removal (/pdays binning)\n",
    "4. Drop non-relevant features ~ pdays, default, contact\n",
    "5. Reduce Education Label Space\n",
    "6. Encode Categorical Features\n",
    "7. Normalize/Standardise Numeric Features"
   ]
  },
  {
   "cell_type": "code",
   "execution_count": null,
   "metadata": {
    "colab": {
     "base_uri": "https://localhost:8080/"
    },
    "id": "NXzS1muMVhjn",
    "outputId": "5ca99ff3-90be-491f-c899-94fd1fb298d0"
   },
   "outputs": [],
   "source": [
    "# read data\n",
    "bank_raw = pd.read_csv(\"bank-additional-full.csv\", sep=\";\")\n",
    "bank_mice = pd.read_csv(\"imputed_bank_data_mice.csv\", index_col=0)\n",
    "\n",
    "bank_mice_copy = bank_mice.copy()\n",
    "print(len(bank_raw))"
   ]
  },
  {
   "cell_type": "code",
   "execution_count": null,
   "metadata": {
    "colab": {
     "base_uri": "https://localhost:8080/"
    },
    "id": "NmIdLN3oVhtF",
    "outputId": "98e65bb6-cf62-4f9c-ad60-edf38892a1c7"
   },
   "outputs": [],
   "source": [
    "# Step 1 is executed in above section already\n",
    "# Step 2: Duplicate removal\n",
    "bank_mice_copy.drop_duplicates(subset=None, keep='first', inplace=True)\n",
    "bank_size_dup_rem = len(bank_mice_copy)\n",
    "bank_size_dup_rem"
   ]
  },
  {
   "cell_type": "code",
   "execution_count": null,
   "metadata": {
    "id": "O60n65qjYEKf"
   },
   "outputs": [],
   "source": [
    "# Step 3: Binning and Outlier Removal\n",
    "def outlier_removal(data, column, quantile):\n",
    "  q = data[column].quantile(quantile)\n",
    "  return  data[data[column] < q]\n",
    "\n",
    "def binning_function(data_col, custom_bin_range, custom_bin_labels):\n",
    "  return pd.cut(data_col, bins=custom_bin_range, labels=custom_bin_labels)"
   ]
  },
  {
   "cell_type": "code",
   "execution_count": null,
   "metadata": {
    "colab": {
     "base_uri": "https://localhost:8080/",
     "height": 217
    },
    "id": "naOZEy5cZRhp",
    "outputId": "3e5d9aaf-f27c-46a6-ad83-acecf6e52380"
   },
   "outputs": [],
   "source": [
    "dur_labels_4 = ['less_than_200sec', '200sec_400sec', '400sec_800sec', 'more_than_800sec']\n",
    "dur_bins = [0, 200, 400, 800, 200000]\n",
    "\n",
    "bank_mice_copy = outlier_removal(bank_mice_copy, \"duration\", 0.99)\n",
    "# box plots can be found in above section \"Binning Duration\" for reference\n",
    "bank_size_out_rem = len(bank_mice_copy)\n",
    "bank_mice_copy[\"binned_duration\"] = binning_function(bank_mice_copy[\"duration\"],\n",
    "                                                     dur_bins, dur_labels_4)\n",
    "bank_mice_copy.head()"
   ]
  },
  {
   "cell_type": "code",
   "execution_count": null,
   "metadata": {
    "colab": {
     "base_uri": "https://localhost:8080/"
    },
    "id": "9q2E_Cvuners",
    "outputId": "c4d18313-ff60-4cc1-d895-8463d9c6913e"
   },
   "outputs": [],
   "source": [
    "print(\"Number of rows removed by outlier filtering:\", bank_size_dup_rem - bank_size_out_rem)"
   ]
  },
  {
   "cell_type": "code",
   "execution_count": null,
   "metadata": {
    "id": "kZyt3Zc9Z_gA"
   },
   "outputs": [],
   "source": [
    "# Step 4: Dropping non-relevant columns as per initial EDA\n",
    "\n",
    "# drop default as it doesn't contribute any information. No \"yes\" label exists!!!\n",
    "# drop pdays as \"999\" dominates the label. around 95% of the entries. \n",
    "# The remaining entries have yes and no almost similarly distributed.\n",
    "bank_mice_copy.drop(columns=[\"default\", \"pdays\"], inplace=True)"
   ]
  },
  {
   "cell_type": "code",
   "execution_count": null,
   "metadata": {
    "colab": {
     "base_uri": "https://localhost:8080/",
     "height": 197
    },
    "id": "_95Oft4xdYuh",
    "outputId": "d948b555-2fcc-49a0-f60d-4c8126f4ac6a"
   },
   "outputs": [],
   "source": [
    "# Step 5: Modify categorical features\n",
    "\n",
    "# reduce education label space\n",
    "bank_mice_copy.loc[bank_mice_copy['education'] == 'basic.9y','education'] = 'basic'\n",
    "bank_mice_copy.loc[bank_mice_copy['education'] == 'basic.6y','education'] = 'basic'\n",
    "bank_mice_copy.loc[bank_mice_copy['education'] == 'basic.4y','education'] = 'basic'\n",
    "bank_mice_copy['education'] = bank_mice_copy['education'].str.replace('.','')\n",
    "\n",
    "# clean job labels\n",
    "bank_mice_copy['job'] = bank_mice_copy['job'].str.replace('.','')\n",
    "\n",
    "bank_mice_eda = bank_mice_copy.copy()\n",
    "bank_mice_copy.head()"
   ]
  },
  {
   "cell_type": "code",
   "execution_count": null,
   "metadata": {
    "colab": {
     "base_uri": "https://localhost:8080/"
    },
    "id": "nhxnDiqvgNDB",
    "outputId": "b4cc18b6-af03-4623-f1e6-35a78c8591d4"
   },
   "outputs": [],
   "source": [
    "bank_mice_copy.dtypes"
   ]
  },
  {
   "cell_type": "code",
   "execution_count": null,
   "metadata": {
    "id": "HaT6rdaNgToJ"
   },
   "outputs": [],
   "source": [
    "# Step 6: Encoding for Categorical Features\n",
    "def encode_multi_label_features(data, columns):\n",
    "  return pd.get_dummies(data, columns = columns)\n",
    "\n",
    "def encode_bin_label_features(data, columns):\n",
    "  return pd.get_dummies(data, columns = columns, drop_first=True)"
   ]
  },
  {
   "cell_type": "code",
   "execution_count": null,
   "metadata": {
    "colab": {
     "base_uri": "https://localhost:8080/",
     "height": 234
    },
    "id": "wRFSm058e-D1",
    "outputId": "8d3dc2d7-251c-494f-b65a-1a8702fdcb2b"
   },
   "outputs": [],
   "source": [
    "# there will be no binned_duration if we decide not to bin duration, and consequently drop duration!\n",
    "multi_cat_features = [\"job\", \"marital\", \"education\",\n",
    "                \"month\", \"day_of_week\", \"poutcome\", \"binned_duration\"]\n",
    "bin_cat_features = [\"housing\", \"loan\", \"contact\", \"y\"]\n",
    "\n",
    "bank_preprocess_one_hot = encode_multi_label_features(bank_mice_copy, multi_cat_features)\n",
    "bank_preprocess_one_hot = encode_bin_label_features(bank_preprocess_one_hot, bin_cat_features)\n",
    "bank_preprocess_one_hot.drop(columns=['duration'], inplace=True)\n",
    "\n",
    "bank_preprocess_one_hot.to_csv(\"bank_one_hot.csv\", sep=\",\")\n",
    "bank_preprocess_one_hot.head()"
   ]
  },
  {
   "cell_type": "code",
   "execution_count": null,
   "metadata": {
    "id": "v2D_oY_CrZ08"
   },
   "outputs": [],
   "source": [
    "# Idealing should be done with Modeling\n",
    "# Step 7: Normalizing/Standardizing Data\n",
    "\n",
    "from sklearn.preprocessing import StandardScaler\n",
    "from sklearn.model_selection import train_test_split"
   ]
  },
  {
   "cell_type": "code",
   "execution_count": null,
   "metadata": {
    "id": "gWQ_jZhr2jng"
   },
   "outputs": [],
   "source": [
    "bank_model_data = pd.read_csv(\"bank_one_hot.csv\", sep=\",\", index_col=0)"
   ]
  },
  {
   "cell_type": "code",
   "execution_count": null,
   "metadata": {
    "colab": {
     "base_uri": "https://localhost:8080/",
     "height": 234
    },
    "id": "Azt3zKI92rhO",
    "outputId": "c5b9d199-b02b-49d5-8953-ed6ca4234ccf"
   },
   "outputs": [],
   "source": [
    "bank_model_data.head()"
   ]
  },
  {
   "cell_type": "code",
   "execution_count": null,
   "metadata": {
    "colab": {
     "base_uri": "https://localhost:8080/"
    },
    "id": "OGZWdDtEfQdX",
    "outputId": "a5b1d50a-3487-4439-952e-7b54552b1e29"
   },
   "outputs": [],
   "source": [
    "len(X.columns), X.columns"
   ]
  },
  {
   "cell_type": "code",
   "execution_count": null,
   "metadata": {
    "id": "Iv9K-J6arSym"
   },
   "outputs": [],
   "source": [
    "X = bank_model_data.drop(columns=[\"y_yes\"])\n",
    "y = bank_model_data[\"y_yes\"]\n",
    "num_features = [\"age\", \"campaign\", \"previous\", \"emp.var.rate\", \"cons.price.idx\", \n",
    "                    \"cons.conf.idx\", \"euribor3m\", \"nr.employed\"]\n",
    "scaler = StandardScaler(with_mean=True,with_std=True)\n",
    "x_train, x_test, y_train, y_test = train_test_split(X, y, test_size=0.2, \n",
    "                                                    random_state=42, stratify= y)\n",
    "scaler.fit(x_train[num_features])\n",
    "\n",
    "x_train_scaled = x_train.copy()\n",
    "x_test_scaled = x_test.copy()\n",
    "x_train_scaled[num_features] = scaler.transform(x_train[num_features])\n",
    "x_test_scaled[num_features] = scaler.transform(x_test[num_features])"
   ]
  },
  {
   "cell_type": "code",
   "execution_count": null,
   "metadata": {
    "colab": {
     "base_uri": "https://localhost:8080/",
     "height": 443
    },
    "id": "OSyUgdpw3q-z",
    "outputId": "5abb8236-adab-40c4-a47b-beedd9336e5d"
   },
   "outputs": [],
   "source": [
    "x_train_scaled"
   ]
  },
  {
   "cell_type": "code",
   "execution_count": null,
   "metadata": {
    "colab": {
     "base_uri": "https://localhost:8080/",
     "height": 406
    },
    "id": "L-q7SAafrm6Y",
    "outputId": "8e96b6c3-7e0b-4efc-ed60-a769e74e0d43"
   },
   "outputs": [],
   "source": [
    "x_test[num_features]"
   ]
  },
  {
   "cell_type": "code",
   "execution_count": null,
   "metadata": {
    "colab": {
     "base_uri": "https://localhost:8080/"
    },
    "id": "HY4BOkB1iVnJ",
    "outputId": "a8feede1-8905-4dbf-f7af-2a750b765d23"
   },
   "outputs": [],
   "source": [
    "x_train_scaled[0:5]"
   ]
  },
  {
   "cell_type": "markdown",
   "metadata": {
    "id": "h4uPHzyotlhK"
   },
   "source": [
    "## EDA after Data Cleaning\n",
    "\n",
    "\n",
    "Things to check:\n",
    "\n",
    "- how does the distribution look after imputation, where does it change? Raw vs MICE\n",
    "- Distribution of binned duration. Should the range be different?\n",
    "- If pdays is binned, how does it look."
   ]
  },
  {
   "cell_type": "code",
   "execution_count": null,
   "metadata": {
    "colab": {
     "base_uri": "https://localhost:8080/",
     "height": 623
    },
    "id": "l-52mg3HtltK",
    "outputId": "8037a9b9-f1ca-4816-ebec-2164da77df25"
   },
   "outputs": [],
   "source": [
    "fig, axs = plt.subplots(2, 3, figsize=(25,10))\n",
    "sns.countplot(y=\"education\", hue=\"y\",\n",
    "            palette=\"pastel\", edgecolor=\".6\",\n",
    "            data=bank_mice_eda, ax=axs[0, 0])\n",
    "sns.countplot(y=\"job\", hue=\"y\",\n",
    "            palette=\"pastel\", edgecolor=\".6\",\n",
    "            data=bank_mice_eda, ax=axs[0, 1])\n",
    "sns.countplot(y=\"marital\", hue=\"y\",\n",
    "            palette=\"pastel\", edgecolor=\".6\",\n",
    "            data=bank_mice_eda, ax=axs[0, 2])\n",
    "sns.countplot(y=\"binned_duration\", hue=\"y\",\n",
    "            palette=\"pastel\", edgecolor=\".6\",\n",
    "            data=bank_mice_eda, ax=axs[1, 0])\n",
    "sns.countplot(y=\"housing\", hue=\"y\",\n",
    "            palette=\"pastel\", edgecolor=\".6\",\n",
    "            data=bank_mice_eda, ax=axs[1, 1])\n",
    "sns.countplot(y=\"loan\", hue=\"y\",\n",
    "            palette=\"pastel\", edgecolor=\".6\",\n",
    "            data=bank_mice_eda, ax=axs[1, 2])"
   ]
  },
  {
   "cell_type": "code",
   "execution_count": null,
   "metadata": {
    "colab": {
     "base_uri": "https://localhost:8080/",
     "height": 623
    },
    "id": "cC8YrhJh5odT",
    "outputId": "78d946de-2edf-4870-882d-867aa57ab2ea"
   },
   "outputs": [],
   "source": [
    "edu = pd.DataFrame()\n",
    "edu[\"mice\"] = bank_mice[\"education\"]\n",
    "edu[\"raw\"] = bank_raw[\"education\"]\n",
    "\n",
    "fig, axs = plt.subplots(1, 1, figsize=(25,10))\n",
    "sns.countplot(x=\"value\", hue=\"variable\", data=pd.melt(edu))"
   ]
  },
  {
   "cell_type": "code",
   "execution_count": null,
   "metadata": {
    "colab": {
     "base_uri": "https://localhost:8080/",
     "height": 623
    },
    "id": "RfrjijHp780S",
    "outputId": "dff02991-aa4b-48c8-d912-f3149718c09a"
   },
   "outputs": [],
   "source": [
    "jobs = pd.DataFrame()\n",
    "jobs[\"mice\"] = bank_mice[\"job\"]\n",
    "jobs[\"raw\"] = bank_raw[\"job\"]\n",
    "\n",
    "fig, axs = plt.subplots(1, 1, figsize=(25,10))\n",
    "sns.countplot(x=\"value\", hue=\"variable\", data=pd.melt(jobs))"
   ]
  },
  {
   "cell_type": "code",
   "execution_count": null,
   "metadata": {
    "colab": {
     "base_uri": "https://localhost:8080/",
     "height": 623
    },
    "id": "A5KpfwHy8N54",
    "outputId": "05a6220b-7b70-49fc-8581-0b9b6f794dcd"
   },
   "outputs": [],
   "source": [
    "mar = pd.DataFrame()\n",
    "mar[\"mice\"] = bank_mice[\"marital\"]\n",
    "mar[\"raw\"] = bank_raw[\"marital\"]\n",
    "\n",
    "fig, axs = plt.subplots(1, 1, figsize=(25,10))\n",
    "sns.countplot(x=\"value\", hue=\"variable\", data=pd.melt(mar))"
   ]
  },
  {
   "cell_type": "code",
   "execution_count": null,
   "metadata": {
    "id": "xboU9vYs_4jm"
   },
   "outputs": [],
   "source": [
    "# if pdays is binned\n",
    "\n",
    "pdays_bins_labels = [\"within_one_week\", \"within_two_weeks\",\"within_three_weeks\", \"in_more_than_3_weeks\", \"never\"]\n",
    "pdays_bins_range =  [0, 7, 14, 21, 998, 999]\n",
    "bank_mice_copy[\"pdays_binned\"] = pd.cut(bank_data[\"pdays\"], pdays_bins_range, labels=pdays_bins_labels, include_lowest=True)"
   ]
  },
  {
   "cell_type": "code",
   "execution_count": null,
   "metadata": {
    "colab": {
     "base_uri": "https://localhost:8080/"
    },
    "id": "XufZ9gc2BNjw",
    "outputId": "dce55217-7ee7-4db3-9305-dbfd02a98951"
   },
   "outputs": [],
   "source": [
    "pdays_binned.value_counts()"
   ]
  },
  {
   "cell_type": "code",
   "execution_count": null,
   "metadata": {
    "colab": {
     "base_uri": "https://localhost:8080/"
    },
    "id": "rf0Y_fDrBRfV",
    "outputId": "2aabe6af-0ce5-42cc-80b2-98ef82c1ae77"
   },
   "outputs": [],
   "source": [
    "bank_data[\"pdays\"].value_counts().sort_index()"
   ]
  },
  {
   "cell_type": "code",
   "execution_count": null,
   "metadata": {
    "colab": {
     "base_uri": "https://localhost:8080/",
     "height": 623
    },
    "id": "od49j9XqGQdw",
    "outputId": "46f8b26a-d224-42f3-9247-6d9b442aa6dc"
   },
   "outputs": [],
   "source": [
    "fig, axs = plt.subplots(1, 1, figsize=(25,10))\n",
    "sns.countplot(y=\"pdays_binned\", hue=\"y\",\n",
    "            palette=\"pastel\", edgecolor=\".6\",\n",
    "            data=bank_mice_copy)"
   ]
  },
  {
   "cell_type": "code",
   "execution_count": null,
   "metadata": {
    "id": "uHXEEVD1Gu10"
   },
   "outputs": [],
   "source": []
  }
 ],
 "metadata": {
  "colab": {
   "collapsed_sections": [
    "h_5qRIfz_qBd",
    "BjuFhdRcENSv",
    "aknK-5ngaqok",
    "RGK2z87Kg6Db",
    "6izY9fzNSfSv",
    "yNmlTh54ymGU",
    "h4uPHzyotlhK"
   ],
   "name": "IML_pre_process.ipynb",
   "provenance": [],
   "toc_visible": true
  },
  "kernelspec": {
   "display_name": "Python 3",
   "language": "python",
   "name": "python3"
  },
  "language_info": {
   "codemirror_mode": {
    "name": "ipython",
    "version": 3
   },
   "file_extension": ".py",
   "mimetype": "text/x-python",
   "name": "python",
   "nbconvert_exporter": "python",
   "pygments_lexer": "ipython3",
   "version": "3.8.5"
  }
 },
 "nbformat": 4,
 "nbformat_minor": 1
}
